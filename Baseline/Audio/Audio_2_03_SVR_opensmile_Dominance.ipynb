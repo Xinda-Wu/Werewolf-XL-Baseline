{
 "cells": [
  {
   "cell_type": "code",
   "execution_count": 1,
   "metadata": {},
   "outputs": [],
   "source": [
    "import os\n",
    "import numpy as np\n",
    "from time import time\n",
    "import datetime\n",
    "import pandas as pd\n",
    "from sklearn.preprocessing import StandardScaler\n",
    "from sklearn.model_selection import GridSearchCV, train_test_split\n",
    "from sklearn.model_selection import GridSearchCV\n",
    "from sklearn.linear_model import LinearRegression\n",
    "from sklearn.svm import SVR\n",
    "from sklearn.metrics import mean_squared_error\n",
    "from math import sqrt\n",
    "import pandas as pd"
   ]
  },
  {
   "cell_type": "code",
   "execution_count": 2,
   "metadata": {},
   "outputs": [
    {
     "name": "stdout",
     "output_type": "stream",
     "text": [
      "(10244, 88)\n",
      "(10244,)\n"
     ]
    }
   ],
   "source": [
    "filepath ='/home/dell/Xinda/SVM/server/Audio/data_opensmile/eGeMAPs_Dominance.csv'\n",
    "data = pd.read_csv(filepath)\n",
    "x = data.iloc[:, :-1]  # 数据特征\n",
    "y = data.iloc[:,-1]  # 标签\n",
    "\n",
    "# 将数据划分为训练集和测试集，test_size=.3表示30%的测试集, 随机数种子, 保证可复现性\n",
    "x_train, x_test, y_train, y_test = train_test_split(x, y, test_size=.3, random_state=420)\n",
    "\n",
    "# 修正测试集和训练集的索引\n",
    "for i in [x_train, x_test, y_train, y_test ]:\n",
    "    i.index  = range(i.shape[0])\n",
    "\n",
    "# 标准化\n",
    "scaler_x = StandardScaler()\n",
    "# scaler_y = StandardScaler()\n",
    "x_train_std = scaler_x.fit_transform(x_train)\n",
    "x_test_std = scaler_x.fit_transform(x_test)\n",
    "# y_train = scaler_y.fit_transform(np.array(y_train).reshape([-1,1])).reshape(-1)\n",
    "# y_test = scaler_y.fit_transform(np.array(y_test).reshape([-1,1])).reshape(-1)\n",
    "print(x_train_std.shape)\n",
    "print(y_train.shape)"
   ]
  },
  {
   "cell_type": "code",
   "execution_count": 3,
   "metadata": {},
   "outputs": [],
   "source": [
    "def getPvar(vals, mean):\n",
    "    N = len(vals)\n",
    "    su = 0\n",
    "    for i in range(len(vals)):\n",
    "        su = su + ((vals[i]-mean)*(vals[i]-mean))\n",
    "    pvar = (1/N) * su\n",
    "    return pvar\n",
    "\n",
    "def getMean(vals):\n",
    "    su = 0\n",
    "    for i in range(len(vals)):\n",
    "        su = su + vals[i]\n",
    "    mean = su/(len(vals))\n",
    "    return mean\n",
    "\n",
    "def getMeanofDiffs(xvals, yvals):\n",
    "    su = 0\n",
    "    for i in range(len(xvals)):\n",
    "        su = su + ((xvals[i] - yvals[i])*(xvals[i] - yvals[i]))\n",
    "    meanodiffs = su/(len(xvals))\n",
    "    return meanodiffs\n",
    "\n",
    "def getCCC(pvarfe,pvarexp,meanofdiff,meanfe,meanexp):\n",
    "    bottom = pvarfe + pvarexp + ((meanfe - meanexp)*(meanfe - meanexp))\n",
    "    answer = 1 - (meanofdiff / bottom)\n",
    "    return answer"
   ]
  },
  {
   "cell_type": "code",
   "execution_count": 4,
   "metadata": {},
   "outputs": [
    {
     "name": "stdout",
     "output_type": "stream",
     "text": [
      "(1) Evaluation - RMSE =  0.23301819253262135\n",
      "(2) Evaluation - Spearmman = \n",
      "          result   y_test\n",
      "result  1.00000  0.34908\n",
      "y_test  0.34908  1.00000\n",
      "(3) Evaluation - CCC =  0.41874196779468087\n",
      "save success!\n"
     ]
    }
   ],
   "source": [
    "RMSE_list = []\n",
    "Spearman_list = []\n",
    "CCC_list = []\n",
    "clf = SVR(kernel = 'rbf', gamma = 0.028933584758977834, cache_size=5000)\n",
    "clf.fit(x_train_std, y_train)\n",
    "result = clf.predict(x_test_std)\n",
    "# accuracy\n",
    "rmse = sqrt(mean_squared_error(y_test, result))\n",
    "print(\"(1) Evaluation - RMSE = \", rmse)\n",
    "\n",
    "# Spearman\n",
    "data = {'result':result, 'y_test':y_test}\n",
    "df = pd.DataFrame(data, columns=['result','y_test'])\n",
    "spearman = df.corr(method=\"spearman\" )\n",
    "print(\"(2) Evaluation - Spearmman = \\n\", spearman)\n",
    "\n",
    "# CCC\n",
    "prediction = result\n",
    "ground = y_test\n",
    "meanfe = getMean(ground)\n",
    "meanexp = getMean(prediction)\n",
    "meanofdiff = getMeanofDiffs(ground,prediction)\n",
    "pvarfe = getPvar(ground, meanfe)\n",
    "pvarexp = getPvar(prediction, meanexp)\n",
    "ccc = getCCC(pvarfe,pvarexp,meanofdiff,meanfe,meanexp)\n",
    "print('(3) Evaluation - CCC =  ' + str(ccc))\n",
    "\n",
    "df = pd.DataFrame(data={\"opensmile_prediction_d\": prediction, \"opensmile_groundtruth_d\": y_test.values.tolist()})\n",
    "df.to_csv(\"eval_opensmile_dominance.csv\")\n",
    "print(\"save success!\")"
   ]
  },
  {
   "cell_type": "markdown",
   "metadata": {},
   "source": [
    "### Gamma"
   ]
  },
  {
   "cell_type": "code",
   "execution_count": null,
   "metadata": {},
   "outputs": [
    {
     "name": "stdout",
     "output_type": "stream",
     "text": [
      "gamma_rang: [9.76562500e-04 2.27837703e-03 5.31558594e-03 1.24015707e-02\n",
      " 2.89335848e-02 6.75037337e-02 1.57490131e-01 3.67433623e-01\n",
      " 8.57243983e-01 2.00000000e+00]\n",
      "Start-1, gamma=0.0009765625\n",
      "(1) Evaluation - RMSE =  0.2663717707941254\n",
      "(2) Evaluation - Spearmman = \n",
      "           result    y_test\n",
      "result  1.000000  0.149081\n",
      "y_test  0.149081  1.000000\n",
      "(3) Evaluation - CCC =  0.004494714508979203\n",
      "01:40:372568\n",
      "\n",
      "\n",
      "Start-1, gamma=0.0022783770304221013\n",
      "(1) Evaluation - RMSE =  0.26438796797029884\n",
      "(2) Evaluation - Spearmman = \n",
      "           result    y_test\n",
      "result  1.000000  0.145784\n",
      "y_test  0.145784  1.000000\n",
      "(3) Evaluation - CCC =  0.020203526205654576\n",
      "01:36:689892\n",
      "\n",
      "\n",
      "Start-1, gamma=0.005315585938181161\n"
     ]
    }
   ],
   "source": [
    "times_all = time()\n",
    "# 调试两个参数 gamma & C  ，默认情况下C为1，通常来说这都是一个合理的参数。\n",
    "RMSE_list = []\n",
    "Spearman_list = []\n",
    "CCC_list = []\n",
    "\n",
    "gamma_range = np.logspace(-10, 1, 10, base=2) # 返回13个数字，底是2\n",
    "print(\"gamma_rang:\", gamma_range)\n",
    "\n",
    "for gamma_item in gamma_range:\n",
    "    count=1\n",
    "    time0 = time()\n",
    "    print(\"Start-{0}, gamma={1}\".format(count, gamma_item))\n",
    "    count = count+1\n",
    "    clf = SVR(kernel = 'rbf', gamma = gamma_item, cache_size=5000)\n",
    "    clf.fit(x_train_std, y_train)\n",
    "    \n",
    "    result = clf.predict(x_test_std)\n",
    "    # accuracy\n",
    "    rmse = sqrt(mean_squared_error(y_test, result))\n",
    "    RMSE_list.append(rmse)\n",
    "    print(\"(1) Evaluation - RMSE = \", rmse)\n",
    "    \n",
    "    # Spearman\n",
    "    data = {'result':result, 'y_test':y_test}\n",
    "    df = pd.DataFrame(data, columns=['result','y_test'])\n",
    "    spearman = df.corr(method=\"spearman\" )\n",
    "    print(\"(2) Evaluation - Spearmman = \\n\", spearman)\n",
    "    Spearman_list.append(spearman)\n",
    "    \n",
    "    # CCC\n",
    "    prediction = result\n",
    "    ground = y_test\n",
    "    meanfe = getMean(ground)\n",
    "    meanexp = getMean(prediction)\n",
    "    meanofdiff = getMeanofDiffs(ground,prediction)\n",
    "    pvarfe = getPvar(ground, meanfe)\n",
    "    pvarexp = getPvar(prediction, meanexp)\n",
    "    ccc = getCCC(pvarfe,pvarexp,meanofdiff,meanfe,meanexp)\n",
    "    CCC_list.append(ccc)\n",
    "    print('(3) Evaluation - CCC =  ' + str(ccc))\n",
    "    print(datetime.datetime.fromtimestamp(time()-time0).strftime(\"%M:%S:%f\"))\n",
    "    print()\n",
    "    print()\n",
    "\n",
    "print(\"Gamma = \", gamma_range[CCC_list.index(max(CCC_list))])\n",
    "print(\"RMSE = \", RMSE_list[CCC_list.index(max(CCC_list))])\n",
    "print(\"Spearman = \", Spearman_list[CCC_list.index(max(CCC_list))])\n",
    "print(\"CCC = \", max(CCC_list) ) \n",
    "print(datetime.datetime.fromtimestamp(time()-times_all).strftime(\"%M:%S:%f\"))\n",
    "print(\"Test over\")"
   ]
  },
  {
   "cell_type": "code",
   "execution_count": null,
   "metadata": {},
   "outputs": [],
   "source": [
    "0"
   ]
  }
 ],
 "metadata": {
  "kernelspec": {
   "display_name": "Python 3",
   "language": "python",
   "name": "python3"
  },
  "language_info": {
   "codemirror_mode": {
    "name": "ipython",
    "version": 3
   },
   "file_extension": ".py",
   "mimetype": "text/x-python",
   "name": "python",
   "nbconvert_exporter": "python",
   "pygments_lexer": "ipython3",
   "version": "3.6.9"
  }
 },
 "nbformat": 4,
 "nbformat_minor": 4
}
