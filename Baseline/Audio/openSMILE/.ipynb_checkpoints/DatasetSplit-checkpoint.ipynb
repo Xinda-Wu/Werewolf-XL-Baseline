{
 "cells": [
  {
   "cell_type": "code",
   "execution_count": 1,
   "metadata": {},
   "outputs": [],
   "source": [
    "import os \n",
    "import numpy as np\n",
    "import pandas as pd"
   ]
  },
  {
   "cell_type": "code",
   "execution_count": 2,
   "metadata": {},
   "outputs": [
    {
     "name": "stdout",
     "output_type": "stream",
     "text": [
      "[1, 2, 3, 4, 5, 6, 7, 8, 9, 10, 11, 12, 13, 14, 15, 16, 17, 18, 19, 20, 21, 22, 23, 24, 25, 26, 27, 28, 29, 30]\n",
      "{'CV_1': {'Test': [1, 2, 3], 'Validation': [4, 5, 6], 'Train': [7, 8, 9, 10, 11, 12, 13, 14, 15, 16, 17, 18, 19, 20, 21, 22, 23, 24, 25, 26, 27, 28, 29, 30]}, 'CV_2': {'Test': [4, 5, 6], 'Validation': [7, 8, 9], 'Train': [1, 2, 3, 10, 11, 12, 13, 14, 15, 16, 17, 18, 19, 20, 21, 22, 23, 24, 25, 26, 27, 28, 29, 30]}, 'CV_3': {'Test': [7, 8, 9], 'Validation': [10, 11, 12], 'Train': [1, 2, 3, 4, 5, 6, 13, 14, 15, 16, 17, 18, 19, 20, 21, 22, 23, 24, 25, 26, 27, 28, 29, 30]}, 'CV_4': {'Test': [10, 11, 12], 'Validation': [13, 14, 15], 'Train': [1, 2, 3, 4, 5, 6, 7, 8, 9, 16, 17, 18, 19, 20, 21, 22, 23, 24, 25, 26, 27, 28, 29, 30]}, 'CV_5': {'Test': [13, 14, 15], 'Validation': [16, 17, 18], 'Train': [1, 2, 3, 4, 5, 6, 7, 8, 9, 10, 11, 12, 19, 20, 21, 22, 23, 24, 25, 26, 27, 28, 29, 30]}, 'CV_6': {'Test': [16, 17, 18], 'Validation': [19, 20, 21], 'Train': [1, 2, 3, 4, 5, 6, 7, 8, 9, 10, 11, 12, 13, 14, 15, 22, 23, 24, 25, 26, 27, 28, 29, 30]}, 'CV_7': {'Test': [19, 20, 21], 'Validation': [22, 23, 24], 'Train': [1, 2, 3, 4, 5, 6, 7, 8, 9, 10, 11, 12, 13, 14, 15, 16, 17, 18, 25, 26, 27, 28, 29, 30]}, 'CV_8': {'Test': [22, 23, 24], 'Validation': [25, 26, 27], 'Train': [1, 2, 3, 4, 5, 6, 7, 8, 9, 10, 11, 12, 13, 14, 15, 16, 17, 18, 19, 20, 21, 28, 29, 30]}, 'CV_9': {'Test': [25, 26, 27], 'Validation': [28, 29, 30], 'Train': [1, 2, 3, 4, 5, 6, 7, 8, 9, 10, 11, 12, 13, 14, 15, 16, 17, 18, 19, 20, 21, 22, 23, 24]}, 'CV_10': {'Test': [28, 29, 30], 'Validation': [1, 2, 3], 'Train': [4, 5, 6, 7, 8, 9, 10, 11, 12, 13, 14, 15, 16, 17, 18, 19, 20, 21, 22, 23, 24, 25, 26, 27]}}\n"
     ]
    }
   ],
   "source": [
    "all_session =[i for i in range(1,31)]\n",
    "print(all_session)\n",
    "cv_dataset = {}\n",
    "for i in range(0,10): # CV = 10\n",
    "    if i !=9:\n",
    "        cv_dataset[f\"CV_{i+1}\"] = {\n",
    "            \"Test\":all_session[i*3:3*(i+1)],\n",
    "            \"Validation\":all_session[(i+1)*3:3*(i+2)],\n",
    "            \"Train\":list(set(all_session) - set(all_session[i*3:3*(i+1)])- set(all_session[(i+1)*3:3*(i+2)]))\n",
    "        }\n",
    "    else:\n",
    "        cv_dataset[f\"CV_{i+1}\"] = {\n",
    "            \"Test\":all_session[i*3:3*(i+1)],\n",
    "            \"Validation\":[1,2,3],\n",
    "            \"Train\":list(set(all_session) - set(all_session[i*3:3*(i+1)])- set([1,2,3]))\n",
    "        }\n",
    "print(cv_dataset)"
   ]
  },
  {
   "cell_type": "markdown",
   "metadata": {},
   "source": [
    "# split"
   ]
  },
  {
   "cell_type": "code",
   "execution_count": 4,
   "metadata": {},
   "outputs": [],
   "source": [
    "# Add Session Information, 先自己加一行 Session列\n",
    "features = pd.read_csv('./1_Features_raw/Regression_Speaker_Audio_opensmile_addFeatures_final_session.csv')\n",
    "for idx, item in features.iterrows():\n",
    "    session = int(item['VideoName'][:2])\n",
    "    features.iloc[idx, 0] = session\n",
    "features.to_csv('./1_Features_raw/Regression_Speaker_Audio_opensmile_addFeatures_final_session2.csv')"
   ]
  },
  {
   "cell_type": "code",
   "execution_count": 5,
   "metadata": {},
   "outputs": [],
   "source": [
    "# manually delete the first two cols\n",
    "features = pd.read_csv('./1_Features_raw/Regression_Speaker_Audio_opensmile_addFeatures_final_session2.csv')\n"
   ]
  },
  {
   "cell_type": "code",
   "execution_count": 6,
   "metadata": {},
   "outputs": [
    {
     "data": {
      "text/plain": [
       "<bound method NDFrame.head of      Round  Sessions  No Name  Age Gender Times_1 Times_2 Times_3 Times_4  \\\n",
       "0        1         6   1  吴至烜   21      男    1-01    5-04    8-03    9-07   \n",
       "1        1         6   2  孔雨欣   20      女    1-02    9-09   20-05     NaN   \n",
       "2        1         6   3  李佳骏   21      男    1-03   18-02   20-03   21-02   \n",
       "3        1         6   4  涂方琪   20      女    1-04     NaN     NaN     NaN   \n",
       "4        1         6   5  陈佳栋   22      男    1-05   13-08     NaN     NaN   \n",
       "..     ...       ...  ..  ...  ...    ...     ...     ...     ...     ...   \n",
       "265     30        40   5  彭媛媛   28      女   27-02   29-02   30-05     NaN   \n",
       "266     30        40   6  钱伟成   23      男   25-03   26-04   29-05   30-06   \n",
       "267     30        40   7  谢懿宣   20      女   29-01   30-07     NaN     NaN   \n",
       "268     30        40   8  李冰清   19     女    29-07   30-08     NaN     NaN   \n",
       "269     30        40   9  沈聿青   22      女   25-04   27-03   28-05   29-06   \n",
       "\n",
       "    Times_5  Times_6  Times_7  All  \n",
       "0       NaN      NaN      NaN  4.0  \n",
       "1       NaN      NaN      NaN  3.0  \n",
       "2       NaN      NaN      NaN  4.0  \n",
       "3       NaN      NaN      NaN  1.0  \n",
       "4       NaN      NaN      NaN  2.0  \n",
       "..      ...      ...      ...  ...  \n",
       "265     NaN      NaN      NaN  3.0  \n",
       "266     NaN      NaN      NaN  4.0  \n",
       "267     NaN      NaN      NaN  2.0  \n",
       "268     NaN      NaN      NaN  2.0  \n",
       "269   30-09      NaN      NaN  5.0  \n",
       "\n",
       "[270 rows x 14 columns]>"
      ]
     },
     "execution_count": 6,
     "metadata": {},
     "output_type": "execute_result"
    }
   ],
   "source": [
    "participate = pd.read_csv(\"Final_results_0620_1721.csv\")\n",
    "participate.head"
   ]
  },
  {
   "cell_type": "code",
   "execution_count": 72,
   "metadata": {},
   "outputs": [
    {
     "name": "stdout",
     "output_type": "stream",
     "text": [
      "Test sessions =  [1, 2, 3]\n",
      "{'09_07', '07_05', '21_04', '04_04', '12_05', '17_04', '08_05', '12_02', '21_07', '15_02', '10_05', '13_08', '16_02', '20_02', '20_05', '16_08', '21_02', '09_06', '04_02', '04_01', '22_09', '08_03', '13_01', '18_01', '18_02', '20_03', '09_09', '06_08', '11_03', '16_04', '08_04', '20_06', '05_08', '14_09', '09_01', '05_04', '21_08', '07_03', '17_06'}\n"
     ]
    },
    {
     "name": "stderr",
     "output_type": "stream",
     "text": [
      "/Library/Frameworks/Python.framework/Versions/3.8/lib/python3.8/site-packages/pandas/core/frame.py:4167: SettingWithCopyWarning: \n",
      "A value is trying to be set on a copy of a slice from a DataFrame\n",
      "\n",
      "See the caveats in the documentation: https://pandas.pydata.org/pandas-docs/stable/user_guide/indexing.html#returning-a-view-versus-a-copy\n",
      "  return super().drop(\n"
     ]
    },
    {
     "name": "stdout",
     "output_type": "stream",
     "text": [
      "Test sessions =  [4, 5, 6]\n",
      "{'03_06', '07_04', '18_04', '07_05', '09_03', '09_07', '21_04', '11_04', '14_07', '17_04', '01_01', '12_07', '15_02', '10_05', '16_09', '12_04', '22_06', '08_08', '03_09', '16_08', '20_01', '15_05', '11_01', '13_09', '28_01', '12_01', '10_07', '08_03', '02_09', '03_03', '18_03', '21_01', '14_06', '23_01', '10_02', '11_09', '11_07', '24_04', '11_02', '15_07', '10_09', '11_08', '10_04'}\n",
      "Test sessions =  [7, 8, 9]\n",
      "{'03_06', '13_07', '04_04', '01_02', '12_05', '01_01', '12_02', '21_07', '04_05', '01_09', '02_05', '24_09', '16_02', '20_02', '03_01', '20_01', '20_05', '18_08', '11_06', '21_09', '12_08', '22_05', '11_05', '13_01', '18_03', '18_01', '17_08', '21_01', '10_08', '02_08', '16_04', '14_02', '10_03', '03_05', '20_06', '18_06', '12_03', '13_06', '14_09', '11_08', '18_07', '20_09', '05_04', '12_09', '05_05', '17_06', '06_09', '10_04'}\n",
      "Test sessions =  [10, 11, 12]\n",
      "{'07_04', '18_04', '09_04', '07_02', '21_04', '13_07', '14_07', '17_04', '08_05', '21_07', '01_09', '16_09', '22_06', '08_08', '24_09', '03_09', '03_01', '09_02', '18_08', '15_05', '05_03', '08_09', '13_09', '05_07', '22_05', '08_07', '04_01', '22_09', '17_03', '14_06', '23_01', '08_01', '04_03', '04_09', '16_04', '04_06', '06_05', '20_06', '24_04', '13_06', '06_06', '02_07', '15_07', '06_03', '18_07', '09_08', '21_08', '07_03', '05_06', '05_05', '17_06', '06_09', '07_08'}\n",
      "Test sessions =  [13, 14, 15]\n",
      "{'18_04', '16_06', '21_03', '16_09', '02_05', '22_06', '16_02', '12_04', '20_02', '16_08', '09_02', '16_07', '11_06', '11_01', '09_06', '05_07', '16_01', '20_08', '04_02', '10_07', '01_05', '03_03', '19_08', '18_01', '08_01', '02_08', '11_07', '22_03', '04_06', '10_03', '17_07', '16_05', '06_05', '17_01', '11_02', '06_06', '09_01', '07_07', '20_04', '05_06'}\n",
      "Test sessions =  [16, 17, 18]\n",
      "{'09_04', '09_03', '07_02', '21_04', '27_09', '12_05', '15_03', '12_06', '15_02', '14_04', '10_05', '04_05', '15_04', '02_05', '12_04', '24_09', '14_05', '03_09', '03_01', '20_02', '20_01', '15_05', '21_02', '11_01', '09_06', '05_07', '12_08', '22_05', '04_02', '04_01', '07_09', '13_01', '03_03', '01_03', '21_01', '02_08', '22_02', '20_03', '22_03', '06_05', '12_03', '13_02', '13_05', '27_06', '14_08', '09_01', '14_09', '15_07', '07_03', '07_08'}\n",
      "Test sessions =  [19, 20, 21]\n",
      "{'09_03', '01_02', '17_04', '08_05', '12_02', '04_05', '24_05', '10_05', '01_09', '02_05', '03_09', '22_04', '04_01', '22_09', '18_03', '18_01', '01_03', '18_02', '14_03', '09_09', '07_01', '11_03', '14_09', '09_01', '02_07', '23_03', '15_08', '13_03'}\n",
      "Test sessions =  [22, 23, 24]\n",
      "{'09_04', '07_02', '11_04', '14_07', '12_07', '17_09', '30_02', '18_08', '05_03', '12_08', '25_05', '12_01', '26_06', '11_03', '17_07', '21_05', '11_02', '12_03', '27_06', '14_08', '02_07', '06_03', '18_07', '21_08', '05_06', '25_08', '07_08'}\n",
      "Test sessions =  [25, 26, 27]\n",
      "{'17_09', '30_09', '29_08', '29_05', '22_02', '28_03', '28_06', '28_02', '30_06', '29_02', '24_07', '28_05', '24_03', '18_05', '30_05', '28_04', '23_07', '29_06'}\n",
      "Test sessions =  [28, 29, 30]\n",
      "{'05_02', '27_03', '23_09', '26_04', '27_02', '25_04', '26_02', '27_07', '26_09', '26_03', '25_03', '27_08'}\n"
     ]
    }
   ],
   "source": [
    "for cv_idx, key in enumerate(cv_dataset):\n",
    "    Test_sessions = cv_dataset[key][\"Test\"]\n",
    "    print(\"Test sessions = \",Test_sessions )\n",
    "    Validation_sessions = cv_dataset[key][\"Validation\"]\n",
    "    Train_sessions = cv_dataset[key][\"Train\"]\n",
    "    \n",
    "    # ---------------------\n",
    "    # load data\n",
    "    # ---------------------\n",
    "    Test_data = features[features['Session'].isin(Test_sessions)]\n",
    "    Test_data.to_csv(f\"./CV_Features/RegressionFeatures/Test_CV_{cv_idx+1}.csv\")\n",
    "    Validation_data = features[features['Session'].isin(Validation_sessions)]\n",
    "    Train_data = features[features['Session'].isin(Train_sessions)]\n",
    "\n",
    "    # ---------------------\n",
    "    # speaker independent\n",
    "    # ---------------------\n",
    "    # (1) delete instance\n",
    "    delete_info = set()\n",
    "    Test_Overlap = participate[participate['Round'].isin(cv_dataset[key][\"Test\"])]\n",
    "    for idx, item in Test_Overlap.iterrows():\n",
    "        values = set(item.values[6:-1])\n",
    "        for temp in values:\n",
    "            if type(temp)!=float:\n",
    "                if int(temp.split('-')[0]) not in Test_sessions:\n",
    "                    if int(temp.split('-')[0])<10:\n",
    "                        temp = '0'+ temp\n",
    "                        delete_info.add(temp.replace(\"-\",\"_\"))\n",
    "                    else:\n",
    "                         delete_info.add(temp.replace(\"-\",\"_\"))\n",
    "    print(delete_info)\n",
    "    \n",
    "    # (2) 整理Validation and Train data\n",
    "    for idx, item in Validation_data.iterrows():\n",
    "        if item['VideoName'][:5] in list(delete_info):\n",
    "            Validation_data.drop(labels = idx,inplace=True)\n",
    "    Validation_data.to_csv(f\"./CV_Features/RegressionFeatures/Validation_CV_{cv_idx+1}.csv\")\n",
    "    \n",
    "    for idx, item in Train_data.iterrows():\n",
    "        if item['VideoName'][:5] in list(delete_info):\n",
    "            Train_data.drop(labels = idx,inplace=True)\n",
    "    Train_data.to_csv(f\"./CV_Features/RegressionFeatures/Train_CV_{cv_idx+1}.csv\")"
   ]
  },
  {
   "cell_type": "code",
   "execution_count": null,
   "metadata": {},
   "outputs": [],
   "source": []
  }
 ],
 "metadata": {
  "kernelspec": {
   "display_name": "Python 3.7.1 64-bit",
   "language": "python",
   "name": "python37164bit395e14d61e31467c92df2f870180e68d"
  },
  "language_info": {
   "codemirror_mode": {
    "name": "ipython",
    "version": 3
   },
   "file_extension": ".py",
   "mimetype": "text/x-python",
   "name": "python",
   "nbconvert_exporter": "python",
   "pygments_lexer": "ipython3",
   "version": "3.8.3"
  },
  "varInspector": {
   "cols": {
    "lenName": 16,
    "lenType": 16,
    "lenVar": 40
   },
   "kernels_config": {
    "python": {
     "delete_cmd_postfix": "",
     "delete_cmd_prefix": "del ",
     "library": "var_list.py",
     "varRefreshCmd": "print(var_dic_list())"
    },
    "r": {
     "delete_cmd_postfix": ") ",
     "delete_cmd_prefix": "rm(",
     "library": "var_list.r",
     "varRefreshCmd": "cat(var_dic_list()) "
    }
   },
   "types_to_exclude": [
    "module",
    "function",
    "builtin_function_or_method",
    "instance",
    "_Feature"
   ],
   "window_display": false
  }
 },
 "nbformat": 4,
 "nbformat_minor": 4
}
