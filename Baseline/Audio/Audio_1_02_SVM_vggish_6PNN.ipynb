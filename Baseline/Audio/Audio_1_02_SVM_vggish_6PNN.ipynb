{
 "cells": [
  {
   "cell_type": "code",
   "execution_count": 1,
   "metadata": {},
   "outputs": [
    {
     "name": "stdout",
     "output_type": "stream",
     "text": [
      "class =  [2 5 0 ... 2 0 0]\n",
      "y_test =     0\n",
      "0  1\n",
      "1  0\n",
      "2  0\n",
      "3  3\n",
      "4  0\n",
      "5  4\n",
      "6  5\n",
      "7  4\n",
      "8  3\n",
      "9  4\n",
      "y.shape= (8490,)\n"
     ]
    }
   ],
   "source": [
    "import os\n",
    "import numpy as np\n",
    "from time import time\n",
    "import datetime\n",
    "import pandas as pd\n",
    "from sklearn.svm import SVC\n",
    "from sklearn.preprocessing import StandardScaler, LabelEncoder\n",
    "from sklearn.model_selection import GridSearchCV, train_test_split\n",
    "from sklearn.metrics import roc_auc_score, recall_score, accuracy_score, f1_score\n",
    "from sklearn.multiclass import OneVsRestClassifier, OneVsOneClassifier\n",
    "from sklearn.preprocessing import label_binarize\n",
    "\n",
    "filepath ='/home/dell/Xinda/SVM/server/Audio/data_vggish/vggish_6pnn_add0.csv'\n",
    "data = pd.read_csv(filepath)\n",
    "x = data.iloc[:, :-1]  # 数据特征\n",
    "y = data.iloc[:,-1]  # 标签\n",
    "\n",
    "# 将数据划分为训练集和测试集，test_size=.3表示30%的测试集, 随机数种子, 保证可复现性\n",
    "x_train, x_test, y_train, y_test = train_test_split(x, y, test_size=.3, random_state=423)\n",
    "x_train\n",
    "\n",
    "# 修正测试集和训练集的索引\n",
    "for i in [x_train, x_test, y_train, y_test ]:\n",
    "    i.index  = range(i.shape[0])\n",
    "\n",
    "# Y 将标签编码\n",
    "encoder = LabelEncoder().fit(y_train) # #训练LabelEncoder, 把y_train中的类别编码为0，1，2，3，4，5\n",
    "y = encoder.transform(y_train)\n",
    "print(\"class = \", y)\n",
    "y_train = pd.DataFrame(encoder.transform(y_train)) # 使用训练好的LabelEncoder对源数据进行编码\n",
    "y_test = pd.DataFrame(encoder.transform(y_test))\n",
    "print(\"y_test = \", y_test[0:10])\n",
    "\n",
    "# 标签降维度\n",
    "y_train = y_train.iloc[:,0].ravel()\n",
    "y_test = y_test.iloc[:,0].ravel()\n",
    "print(\"y.shape=\", y_train.shape)\n",
    "\n",
    "# X标准化\n",
    "scaler = StandardScaler()\n",
    "x_train_std = scaler.fit_transform(x_train)  # 标准化\n",
    "x_test_std = scaler.fit_transform(x_test)"
   ]
  },
  {
   "cell_type": "markdown",
   "metadata": {},
   "source": [
    "## Gamma"
   ]
  },
  {
   "cell_type": "code",
   "execution_count": 2,
   "metadata": {},
   "outputs": [
    {
     "name": "stdout",
     "output_type": "stream",
     "text": [
      "accuracy =  0.4256663918658972\n",
      "f1 score =  0.4036103678304959\n",
      "AUC =  0.7582464735600354\n",
      "07:46:672626\n",
      "\n"
     ]
    }
   ],
   "source": [
    "time0 = time()\n",
    "clf = OneVsRestClassifier(\n",
    "        SVC(kernel = 'rbf', \n",
    "        gamma =  0.005315585938181161,\n",
    "            C = 1.13333333333,\n",
    "        degree=1, \n",
    "        probability=True,\n",
    "        cache_size=5000, \n",
    "        class_weight='balanced'))\n",
    "clf.fit(x_train_std, y_train)\n",
    "    \n",
    "y_test_prediction = clf.predict(x_test_std)\n",
    "# accuracy\n",
    "accuracy = accuracy_score(y_test,y_test_prediction)\n",
    "print(\"accuracy = \", accuracy)\n",
    "# F1-score\n",
    "f1 = f1_score(y_test,y_test_prediction, average=\"weighted\")\n",
    "print(\"f1 score = \", f1)\n",
    "    \n",
    "# AUC\n",
    "y_test_binary = label_binarize(y_test, classes=list(range(6))) # 转化为one-hot\n",
    "result = clf.decision_function(x_test_std)\n",
    "auc = roc_auc_score(y_test_binary, result, average = 'micro') # 多类分类下，要用概率值（形式二） ，加参数 average='micro'  （不能用ont-hot (形式三) ）\n",
    "print(\"AUC = \", auc)\n",
    "\n",
    "print(datetime.datetime.fromtimestamp(time()-time0).strftime(\"%M:%S:%f\"))\n",
    "print()"
   ]
  },
  {
   "cell_type": "code",
   "execution_count": 3,
   "metadata": {},
   "outputs": [
    {
     "name": "stdout",
     "output_type": "stream",
     "text": [
      "save success!\n"
     ]
    }
   ],
   "source": [
    "result = clf.predict_proba(x_test_std)\n",
    "df = pd.DataFrame(result)\n",
    "df.to_csv(\"categorical03_vggish_6pnn.csv\")\n",
    "print(\"save success!\")"
   ]
  },
  {
   "cell_type": "code",
   "execution_count": null,
   "metadata": {},
   "outputs": [],
   "source": []
  },
  {
   "cell_type": "code",
   "execution_count": null,
   "metadata": {},
   "outputs": [],
   "source": []
  },
  {
   "cell_type": "code",
   "execution_count": null,
   "metadata": {},
   "outputs": [],
   "source": []
  },
  {
   "cell_type": "code",
   "execution_count": null,
   "metadata": {},
   "outputs": [],
   "source": []
  },
  {
   "cell_type": "code",
   "execution_count": null,
   "metadata": {},
   "outputs": [],
   "source": []
  },
  {
   "cell_type": "code",
   "execution_count": null,
   "metadata": {},
   "outputs": [],
   "source": []
  },
  {
   "cell_type": "code",
   "execution_count": null,
   "metadata": {},
   "outputs": [],
   "source": []
  },
  {
   "cell_type": "code",
   "execution_count": null,
   "metadata": {},
   "outputs": [],
   "source": []
  },
  {
   "cell_type": "code",
   "execution_count": null,
   "metadata": {},
   "outputs": [],
   "source": []
  },
  {
   "cell_type": "code",
   "execution_count": null,
   "metadata": {},
   "outputs": [],
   "source": [
    "time0 = time()\n",
    "clf = OneVsRestClassifier(\n",
    "        SVC(kernel = 'rbf', \n",
    "        gamma =  0.005315585938181161,\n",
    "            C = 1.2599210498948,\n",
    "        degree=1, \n",
    "        probability=True,\n",
    "        cache_size=5000, \n",
    "        class_weight='balanced'))\n",
    "clf.fit(x_train_std, y_train)\n",
    "    \n",
    "y_test_prediction = clf.predict(x_test_std)\n",
    "# accuracy\n",
    "accuracy = accuracy_score(y_test,y_test_prediction)\n",
    "print(\"accuracy = \", accuracy)\n",
    "# F1-score\n",
    "f1 = f1_score(y_test,y_test_prediction, average=\"weighted\")\n",
    "print(\"f1 score = \", f1)\n",
    "    \n",
    "# AUC\n",
    "y_test_binary = label_binarize(y_test, classes=list(range(6))) # 转化为one-hot\n",
    "result = clf.decision_function(x_test_std)\n",
    "auc = roc_auc_score(y_test_binary, result, average = 'micro') # 多类分类下，要用概率值（形式二） ，加参数 average='micro'  （不能用ont-hot (形式三) ）\n",
    "print(\"AUC = \", auc)\n",
    "\n",
    "print(datetime.datetime.fromtimestamp(time()-time0).strftime(\"%M:%S:%f\"))\n",
    "print()"
   ]
  },
  {
   "cell_type": "code",
   "execution_count": null,
   "metadata": {},
   "outputs": [],
   "source": []
  },
  {
   "cell_type": "code",
   "execution_count": null,
   "metadata": {},
   "outputs": [],
   "source": []
  },
  {
   "cell_type": "code",
   "execution_count": null,
   "metadata": {},
   "outputs": [],
   "source": []
  },
  {
   "cell_type": "code",
   "execution_count": null,
   "metadata": {},
   "outputs": [],
   "source": []
  },
  {
   "cell_type": "code",
   "execution_count": null,
   "metadata": {},
   "outputs": [],
   "source": []
  },
  {
   "cell_type": "code",
   "execution_count": null,
   "metadata": {},
   "outputs": [],
   "source": []
  },
  {
   "cell_type": "code",
   "execution_count": null,
   "metadata": {},
   "outputs": [],
   "source": []
  },
  {
   "cell_type": "code",
   "execution_count": null,
   "metadata": {},
   "outputs": [],
   "source": []
  },
  {
   "cell_type": "code",
   "execution_count": null,
   "metadata": {},
   "outputs": [],
   "source": []
  },
  {
   "cell_type": "code",
   "execution_count": null,
   "metadata": {},
   "outputs": [],
   "source": []
  },
  {
   "cell_type": "code",
   "execution_count": null,
   "metadata": {},
   "outputs": [],
   "source": []
  },
  {
   "cell_type": "code",
   "execution_count": null,
   "metadata": {},
   "outputs": [],
   "source": [
    "time0 = time()\n",
    "clf = OneVsRestClassifier(\n",
    "        SVC(kernel = 'rbf', \n",
    "        gamma =  0.005315585938181161,\n",
    "            C = 1.0,\n",
    "        degree=1, \n",
    "        probability=True,\n",
    "        cache_size=5000, \n",
    "        class_weight='balanced'))\n",
    "clf.fit(x_train_std, y_train)\n",
    "    \n",
    "y_test_prediction = clf.predict(x_test_std)\n",
    "# accuracy\n",
    "accuracy = accuracy_score(y_test,y_test_prediction)\n",
    "print(\"accuracy = \", accuracy)\n",
    "# F1-score\n",
    "f1 = f1_score(y_test,y_test_prediction, average=\"weighted\")\n",
    "print(\"f1 score = \", f1)\n",
    "    \n",
    "# AUC\n",
    "y_test_binary = label_binarize(y_test, classes=list(range(6))) # 转化为one-hot\n",
    "result = clf.decision_function(x_test_std)\n",
    "auc = roc_auc_score(y_test_binary, result, average = 'micro') # 多类分类下，要用概率值（形式二） ，加参数 average='micro'  （不能用ont-hot (形式三) ）\n",
    "print(\"AUC = \", auc)\n",
    "\n",
    "print(datetime.datetime.fromtimestamp(time()-time0).strftime(\"%M:%S:%f\"))\n",
    "print()"
   ]
  },
  {
   "cell_type": "code",
   "execution_count": null,
   "metadata": {},
   "outputs": [],
   "source": []
  },
  {
   "cell_type": "code",
   "execution_count": null,
   "metadata": {},
   "outputs": [],
   "source": []
  },
  {
   "cell_type": "code",
   "execution_count": null,
   "metadata": {},
   "outputs": [],
   "source": []
  },
  {
   "cell_type": "code",
   "execution_count": null,
   "metadata": {},
   "outputs": [],
   "source": [
    "import tqdm\n",
    "times_all = time()\n",
    "# 调试两个参数 gamma & C  ，默认情况下C为1，通常来说这都是一个合理的参数。\n",
    "accuracy_list = []\n",
    "f1_list = []\n",
    "auc_list = []\n",
    "\n",
    "gamma_range = np.logspace(-10, 1, 10, base=2) # 返回13个数字，底是2\n",
    "print(\"gamma_rang:\", gamma_range)\n",
    "\n",
    "for gamma_item in gamma_range:\n",
    "    count=1\n",
    "    time0 = time()\n",
    "    print(\"Start-{0}, gamma={1}\".format(count, gamma_item))\n",
    "    count = count+1\n",
    "    clf = OneVsRestClassifier(\n",
    "        SVC(kernel = 'rbf', \n",
    "        gamma = gamma_item,\n",
    "        degree=1, \n",
    "        cache_size=5000, \n",
    "        class_weight='balanced'))\n",
    "    clf.fit(x_train_std, y_train)\n",
    "    \n",
    "    y_test_prediction = clf.predict(x_test_std)\n",
    "    # accuracy\n",
    "    accuracy = accuracy_score(y_test,y_test_prediction)\n",
    "    accuracy_list.append(accuracy)\n",
    "    print(\"accuracy = \", accuracy)\n",
    "    # F1-score\n",
    "    f1 = f1_score(y_test,y_test_prediction, average=\"weighted\")\n",
    "    print(\"f1 score = \", f1)\n",
    "    f1_list.append(f1)\n",
    "    # AUC\n",
    "    y_test_binary = label_binarize(y_test, classes=list(range(6))) # 转化为one-hot\n",
    "    result = clf.decision_function(x_test_std)\n",
    "    auc = roc_auc_score(y_test_binary, result, average = 'micro') # 多类分类下，要用概率值（形式二） ，加参数 average='micro'  （不能用ont-hot (形式三) ）\n",
    "    print(\"AUC = \", auc)\n",
    "    auc_list.append(auc)\n",
    "    print(datetime.datetime.fromtimestamp(time()-time0).strftime(\"%M:%S:%f\"))\n",
    "    print()\n",
    "    print()\n",
    "\n",
    "print(max(accuracy_list), gamma_range[accuracy_list.index(max(accuracy_list))])\n",
    "print(\"F1-score = \", f1_list[accuracy_list.index(max(accuracy_list))])\n",
    "print(\"AUC-score = \", auc_list[accuracy_list.index(max(accuracy_list))]) \n",
    "print(datetime.datetime.fromtimestamp(time()-times_all).strftime(\"%M:%S:%f\"))"
   ]
  },
  {
   "cell_type": "code",
   "execution_count": null,
   "metadata": {},
   "outputs": [
    {
     "name": "stdout",
     "output_type": "stream",
     "text": [
      "gamma_rang: [9.76562500e-04 2.27837703e-03 5.31558594e-03 1.24015707e-02\n",
      " 2.89335848e-02 6.75037337e-02 1.57490131e-01 3.67433623e-01\n",
      " 8.57243983e-01 2.00000000e+00]\n",
      "Start-1, gamma=0.0009765625\n",
      "accuracy =  0.3437757625721352\n",
      "f1 score =  0.3503221732868482\n",
      "AUC =  0.6989527289060581\n",
      "22:32:761230\n",
      "\n",
      "\n",
      "Start-1, gamma=0.0022783770304221013\n",
      "accuracy =  0.39433910414949164\n",
      "f1 score =  0.3884344559175234\n",
      "AUC =  0.7310131811485313\n",
      "21:03:972387\n",
      "\n",
      "\n",
      "Start-1, gamma=0.005315585938181161\n"
     ]
    }
   ],
   "source": [
    "import tqdm\n",
    "times_all = time()\n",
    "# 调试两个参数 gamma & C  ，默认情况下C为1，通常来说这都是一个合理的参数。\n",
    "accuracy_list = []\n",
    "f1_list = []\n",
    "auc_list = []\n",
    "\n",
    "gamma_range = np.logspace(-10, 1, 10, base=2) # 返回13个数字，底是2\n",
    "print(\"gamma_rang:\", gamma_range)\n",
    "\n",
    "for gamma_item in gamma_range:\n",
    "    count=1\n",
    "    time0 = time()\n",
    "    print(\"Start-{0}, gamma={1}\".format(count, gamma_item))\n",
    "    count = count+1\n",
    "    clf = OneVsRestClassifier(\n",
    "        SVC(kernel = 'rbf', \n",
    "        gamma = gamma_item,\n",
    "        degree=1, \n",
    "        cache_size=5000, \n",
    "        class_weight='balanced'))\n",
    "    clf.fit(x_train_std, y_train)\n",
    "    \n",
    "    y_test_prediction = clf.predict(x_test_std)\n",
    "    # accuracy\n",
    "    accuracy = accuracy_score(y_test,y_test_prediction)\n",
    "    accuracy_list.append(accuracy)\n",
    "    print(\"accuracy = \", accuracy)\n",
    "    # F1-score\n",
    "    f1 = f1_score(y_test,y_test_prediction, average=\"weighted\")\n",
    "    print(\"f1 score = \", f1)\n",
    "    f1_list.append(f1)\n",
    "    # AUC\n",
    "    y_test_binary = label_binarize(y_test, classes=list(range(6))) # 转化为one-hot\n",
    "    result = clf.decision_function(x_test_std)\n",
    "    auc = roc_auc_score(y_test_binary, result, average = 'micro') # 多类分类下，要用概率值（形式二） ，加参数 average='micro'  （不能用ont-hot (形式三) ）\n",
    "    print(\"AUC = \", auc)\n",
    "    auc_list.append(auc)\n",
    "    print(datetime.datetime.fromtimestamp(time()-time0).strftime(\"%M:%S:%f\"))\n",
    "    print()\n",
    "    print()\n",
    "\n",
    "print(max(accuracy_list), gamma_range[accuracy_list.index(max(accuracy_list))])\n",
    "print(\"F1-score = \", f1_list[accuracy_list.index(max(accuracy_list))])\n",
    "print(\"AUC-score = \", auc_list[accuracy_list.index(max(accuracy_list))]) \n",
    "print(datetime.datetime.fromtimestamp(time()-times_all).strftime(\"%M:%S:%f\"))"
   ]
  },
  {
   "cell_type": "code",
   "execution_count": null,
   "metadata": {},
   "outputs": [],
   "source": []
  }
 ],
 "metadata": {
  "kernelspec": {
   "display_name": "Python 3",
   "language": "python",
   "name": "python3"
  },
  "language_info": {
   "codemirror_mode": {
    "name": "ipython",
    "version": 3
   },
   "file_extension": ".py",
   "mimetype": "text/x-python",
   "name": "python",
   "nbconvert_exporter": "python",
   "pygments_lexer": "ipython3",
   "version": "3.6.9"
  }
 },
 "nbformat": 4,
 "nbformat_minor": 4
}
