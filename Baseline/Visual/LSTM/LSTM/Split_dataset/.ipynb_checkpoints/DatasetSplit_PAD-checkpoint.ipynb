{
 "cells": [
  {
   "cell_type": "code",
   "execution_count": 1,
   "metadata": {},
   "outputs": [],
   "source": [
    "import numpy as np\n",
    "from sklearn.model_selection import train_test_split\n",
    "import pandas as pd"
   ]
  },
  {
   "cell_type": "code",
   "execution_count": 2,
   "metadata": {},
   "outputs": [
    {
     "name": "stdout",
     "output_type": "stream",
     "text": [
      "       VideoName Categorical  Mean_P_1_2_3_4  Mean_A_1_2  Mean_D_1_2_4  \\\n",
      "0      01_01_128          中性            0.00         1.0      0.333333   \n",
      "1      01_01_129          中性            0.75         1.5      0.333333   \n",
      "2      01_01_130          中性            0.50         1.0      0.666667   \n",
      "3      01_01_131          怀疑            0.00         0.5      0.333333   \n",
      "4      01_01_132          怀疑            0.75         0.5      0.333333   \n",
      "...          ...         ...             ...         ...           ...   \n",
      "14627  30_08_438          紧张            0.50         1.0      0.666667   \n",
      "14628  30_08_439          紧张            0.50         1.0      1.000000   \n",
      "14629  30_08_440          紧张            0.50         1.0      1.000000   \n",
      "14630  30_08_441          紧张            1.00         1.0      1.000000   \n",
      "14631  30_08_442          紧张            0.75         1.0      1.000000   \n",
      "\n",
      "         Group  \n",
      "0      speaker  \n",
      "1      speaker  \n",
      "2      speaker  \n",
      "3      speaker  \n",
      "4      speaker  \n",
      "...        ...  \n",
      "14627  speaker  \n",
      "14628  speaker  \n",
      "14629  speaker  \n",
      "14630  speaker  \n",
      "14631  speaker  \n",
      "\n",
      "[14632 rows x 6 columns]\n"
     ]
    }
   ],
   "source": [
    "csvPath = 'Speaker_202103.csv'\n",
    "df = pd.read_csv(csvPath)\n",
    "print(df)"
   ]
  },
  {
   "cell_type": "code",
   "execution_count": 4,
   "metadata": {},
   "outputs": [
    {
     "name": "stdout",
     "output_type": "stream",
     "text": [
      "8781 2927 2927\n"
     ]
    }
   ],
   "source": [
    "train_csv, test_csv = train_test_split(df, test_size =0.2, random_state=324)\n",
    "train_csv, valid_csv = train_test_split(train_csv,test_size =0.25, random_state=324)\n",
    "print(len(train_csv), len(valid_csv),len(test_csv))\n"
   ]
  },
  {
   "cell_type": "code",
   "execution_count": 5,
   "metadata": {},
   "outputs": [
    {
     "name": "stdout",
     "output_type": "stream",
     "text": [
      "save sucess!\n"
     ]
    }
   ],
   "source": [
    "train_csv.to_csv(\"werewolf_speaker_PAD_train_0311.csv\")\n",
    "valid_csv.to_csv(\"werewolf_speaker_PAD_valid_0311.csv\")\n",
    "test_csv.to_csv(\"werewolf_speaker_PAD_test_0311.csv\")\n",
    "print(\"save sucess!\")"
   ]
  }
 ],
 "metadata": {
  "kernelspec": {
   "display_name": "Python 3",
   "language": "python",
   "name": "python3"
  },
  "language_info": {
   "codemirror_mode": {
    "name": "ipython",
    "version": 3
   },
   "file_extension": ".py",
   "mimetype": "text/x-python",
   "name": "python",
   "nbconvert_exporter": "python",
   "pygments_lexer": "ipython3",
   "version": "3.8.3"
  },
  "varInspector": {
   "cols": {
    "lenName": 16,
    "lenType": 16,
    "lenVar": 40
   },
   "kernels_config": {
    "python": {
     "delete_cmd_postfix": "",
     "delete_cmd_prefix": "del ",
     "library": "var_list.py",
     "varRefreshCmd": "print(var_dic_list())"
    },
    "r": {
     "delete_cmd_postfix": ") ",
     "delete_cmd_prefix": "rm(",
     "library": "var_list.r",
     "varRefreshCmd": "cat(var_dic_list()) "
    }
   },
   "types_to_exclude": [
    "module",
    "function",
    "builtin_function_or_method",
    "instance",
    "_Feature"
   ],
   "window_display": false
  }
 },
 "nbformat": 4,
 "nbformat_minor": 4
}
