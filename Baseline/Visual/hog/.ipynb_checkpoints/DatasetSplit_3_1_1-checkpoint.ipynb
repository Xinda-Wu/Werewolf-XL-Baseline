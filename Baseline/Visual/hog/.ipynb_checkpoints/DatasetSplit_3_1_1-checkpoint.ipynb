{
 "cells": [
  {
   "cell_type": "code",
   "execution_count": 7,
   "metadata": {},
   "outputs": [
    {
     "name": "stdout",
     "output_type": "stream",
     "text": [
      "[1, 2, 3, 4, 5, 6, 7, 8, 9, 10, 11, 12, 13, 14, 15, 16, 17, 18, 19, 20, 21, 22, 23, 24, 25, 26, 27, 28, 29, 30]\n",
      "{'CV_1': {'Test': [1, 2, 3, 4, 5, 6], 'Validation': [7, 8, 9, 10, 11, 12], 'Train': [13, 14, 15, 16, 17, 18, 19, 20, 21, 22, 23, 24, 25, 26, 27, 28, 29, 30]}, 'CV_2': {'Test': [7, 8, 9, 10, 11, 12], 'Validation': [13, 14, 15, 16, 17, 18], 'Train': [1, 2, 3, 4, 5, 6, 19, 20, 21, 22, 23, 24, 25, 26, 27, 28, 29, 30]}, 'CV_3': {'Test': [13, 14, 15, 16, 17, 18], 'Validation': [19, 20, 21, 22, 23, 24], 'Train': [1, 2, 3, 4, 5, 6, 7, 8, 9, 10, 11, 12, 25, 26, 27, 28, 29, 30]}, 'CV_4': {'Test': [19, 20, 21, 22, 23, 24], 'Validation': [25, 26, 27, 28, 29, 30], 'Train': [1, 2, 3, 4, 5, 6, 7, 8, 9, 10, 11, 12, 13, 14, 15, 16, 17, 18]}, 'CV_5': {'Test': [25, 26, 27, 28, 29, 30], 'Validation': [1, 2, 3, 4, 5, 6], 'Train': [7, 8, 9, 10, 11, 12, 13, 14, 15, 16, 17, 18, 19, 20, 21, 22, 23, 24]}}\n"
     ]
    }
   ],
   "source": [
    "import os \n",
    "import numpy as np\n",
    "import pandas as pd\n",
    "\n",
    "all_session =[i for i in range(1,31)]\n",
    "print(all_session)\n",
    "cv_dataset = {}\n",
    "for i in range(0,5): # CV = 10\n",
    "    if i !=4:\n",
    "        cv_dataset[f\"CV_{i+1}\"] = {\n",
    "            \"Test\":all_session[i*6:6*(i+1)],\n",
    "            \"Validation\":all_session[(i+1)*6:6*(i+2)],\n",
    "            \"Train\":list(set(all_session) - set(all_session[i*6:6*(i+1)])- set(all_session[(i+1)*6:6*(i+2)]))\n",
    "        }\n",
    "    else:\n",
    "        cv_dataset[f\"CV_{i+1}\"] = {\n",
    "            \"Test\":all_session[i*6:6*(i+1)],\n",
    "            \"Validation\":[1,2,3,4,5,6],\n",
    "            \"Train\":list(set(all_session) - set(all_session[i*6:6*(i+1)])- set([1,2,3,4,5,6]))\n",
    "        }\n",
    "print(cv_dataset)"
   ]
  },
  {
   "cell_type": "markdown",
   "metadata": {},
   "source": [
    "# Add Session Infomation"
   ]
  },
  {
   "cell_type": "code",
   "execution_count": 3,
   "metadata": {},
   "outputs": [],
   "source": [
    "# Add Session Information, 先自己加一行 Session列\n",
    "features = pd.read_csv('./1_Features_raw/Regression_Speaker_Visual_hog_final_session.csv')\n",
    "for idx, item in features.iterrows():\n",
    "    session = int(item['VideoName'][:2])\n",
    "    features.iloc[idx, 0] = session\n",
    "features.to_csv('./1_Features_raw/Regression_Speaker_Visual_hog_final_session2.csv')"
   ]
  },
  {
   "cell_type": "markdown",
   "metadata": {},
   "source": [
    "# Create CV dataset \n",
    "## (1) For Classification"
   ]
  },
  {
   "cell_type": "code",
   "execution_count": 5,
   "metadata": {},
   "outputs": [
    {
     "name": "stdout",
     "output_type": "stream",
     "text": [
      "Test sessions =  [1, 2, 3, 4, 5, 6]\n",
      "{'21_02', '14_09', '10_05', '11_07', '08_08', '08_05', '09_07', '16_09', '16_02', '12_04', '21_07', '20_02', '22_06', '14_06', '24_04', '11_03', '18_04', '20_06', '09_06', '12_05', '11_01', '15_02', '11_09', '21_04', '20_03', '12_02', '21_08', '18_01', '13_08', '10_07', '08_04', '09_09', '10_09', '18_02', '08_03', '28_01', '11_08', '13_09', '20_05', '16_08', '09_01', '12_01', '11_02', '16_04', '11_04', '15_05', '09_03', '07_03', '10_02', '17_04', '23_01', '22_09', '20_01', '07_05', '12_07', '15_07', '14_07', '18_03', '21_01', '07_04', '10_04', '13_01', '17_06'}\n"
     ]
    },
    {
     "name": "stderr",
     "output_type": "stream",
     "text": [
      "/Library/Frameworks/Python.framework/Versions/3.8/lib/python3.8/site-packages/pandas/core/frame.py:4167: SettingWithCopyWarning: \n",
      "A value is trying to be set on a copy of a slice from a DataFrame\n",
      "\n",
      "See the caveats in the documentation: https://pandas.pydata.org/pandas-docs/stable/user_guide/indexing.html#returning-a-view-versus-a-copy\n",
      "  return super().drop(\n"
     ]
    },
    {
     "name": "stdout",
     "output_type": "stream",
     "text": [
      "Test sessions =  [7, 8, 9, 10, 11, 12]\n",
      "{'14_09', '05_05', '16_09', '14_06', '16_02', '21_07', '20_02', '22_06', '04_01', '04_06', '24_04', '01_02', '18_06', '20_06', '05_07', '02_05', '18_04', '18_08', '06_03', '13_07', '21_04', '03_09', '21_08', '17_06', '03_01', '01_09', '18_01', '03_06', '21_09', '05_03', '13_09', '05_04', '20_05', '04_03', '05_06', '02_07', '06_06', '16_04', '04_05', '17_08', '04_09', '03_05', '04_04', '02_08', '15_05', '06_05', '06_09', '22_05', '18_07', '17_03', '20_09', '13_06', '17_04', '23_01', '22_09', '14_02', '20_01', '15_07', '14_07', '18_03', '21_01', '24_09', '13_01', '01_01'}\n",
      "Test sessions =  [13, 14, 15, 16, 17, 18]\n",
      "{'21_02', '10_05', '11_07', '12_08', '12_04', '07_02', '20_02', '22_06', '04_06', '04_01', '05_07', '19_08', '09_06', '11_01', '02_05', '12_05', '27_09', '27_06', '07_08', '21_04', '20_03', '11_06', '03_09', '09_04', '08_01', '03_01', '10_07', '07_07', '12_06', '20_08', '07_09', '21_03', '03_03', '09_01', '05_06', '06_06', '01_05', '22_03', '11_02', '04_05', '20_04', '02_08', '06_05', '09_03', '12_03', '10_03', '09_02', '07_03', '22_05', '01_03', '20_01', '04_02', '21_01', '22_02', '24_09'}\n",
      "Test sessions =  [19, 20, 21, 22, 23, 24]\n",
      "{'17_07', '14_09', '14_03', '10_05', '12_08', '07_01', '08_05', '07_02', '04_01', '11_03', '01_02', '02_05', '18_08', '25_05', '14_08', '06_03', '27_06', '12_02', '03_09', '09_04', '01_09', '18_01', '09_09', '05_03', '13_03', '18_02', '12_01', '09_01', '26_06', '02_07', '05_06', '11_02', '11_04', '04_05', '17_09', '09_03', '12_03', '18_07', '17_04', '01_03', '12_07', '30_02', '14_07', '18_03', '07_08', '25_08', '15_08'}\n",
      "Test sessions =  [25, 26, 27, 28, 29, 30]\n",
      "{'18_05', '05_02', '23_09', '22_02', '24_03', '24_07', '23_07', '17_09'}\n"
     ]
    }
   ],
   "source": [
    "# manually delete the first two cols\n",
    "features = pd.read_csv('./1_Features_raw/Classification_Speaker_Visual_Hog_6PNN_session2.csv')\n",
    "participate = pd.read_csv(\"Final_results_0620_1721.csv\")\n",
    "for cv_idx, key in enumerate(cv_dataset):\n",
    "    Test_sessions = cv_dataset[key][\"Test\"]\n",
    "    print(\"Test sessions = \",Test_sessions )\n",
    "    Validation_sessions = cv_dataset[key][\"Validation\"]\n",
    "    Train_sessions = cv_dataset[key][\"Train\"]\n",
    "    \n",
    "    # ---------------------\n",
    "    # load data\n",
    "    # ---------------------\n",
    "    Test_data = features[features['Session'].isin(Test_sessions)]\n",
    "    Test_data.to_csv(f\"./CV_Features_311/ClassificationFeatures/Test_CV_{cv_idx+1}.csv\")\n",
    "    Validation_data = features[features['Session'].isin(Validation_sessions)]\n",
    "    Train_data = features[features['Session'].isin(Train_sessions)]\n",
    "\n",
    "    # ---------------------\n",
    "    # speaker independent\n",
    "    # ---------------------\n",
    "    # (1) delete instance\n",
    "    delete_info = set()\n",
    "    Test_Overlap = participate[participate['Round'].isin(cv_dataset[key][\"Test\"])]\n",
    "    for idx, item in Test_Overlap.iterrows():\n",
    "        values = set(item.values[6:-1])\n",
    "        for temp in values:\n",
    "            if type(temp)!=float:\n",
    "                if int(temp.split('-')[0]) not in Test_sessions:\n",
    "                    if int(temp.split('-')[0])<10:\n",
    "                        temp = '0'+ temp\n",
    "                        delete_info.add(temp.replace(\"-\",\"_\"))\n",
    "                    else:\n",
    "                         delete_info.add(temp.replace(\"-\",\"_\"))\n",
    "    print(delete_info)\n",
    "    \n",
    "    # (2) 整理Validation and Train data\n",
    "    for idx, item in Validation_data.iterrows():\n",
    "        if item['VideoName'][:5] in list(delete_info):\n",
    "            Validation_data.drop(labels = idx,inplace=True)\n",
    "    Validation_data.to_csv(f\"./CV_Features_311/ClassificationFeatures/Validation_CV_{cv_idx+1}.csv\")\n",
    "    \n",
    "    for idx, item in Train_data.iterrows():\n",
    "        if item['VideoName'][:5] in list(delete_info):\n",
    "            Train_data.drop(labels = idx,inplace=True)\n",
    "    Train_data.to_csv(f\"./CV_Features_311/ClassificationFeatures/Train_CV_{cv_idx+1}.csv\")"
   ]
  },
  {
   "cell_type": "markdown",
   "metadata": {},
   "source": [
    "## (2) For Regression"
   ]
  },
  {
   "cell_type": "code",
   "execution_count": 6,
   "metadata": {},
   "outputs": [
    {
     "name": "stdout",
     "output_type": "stream",
     "text": [
      "Test sessions =  [1, 2, 3, 4, 5, 6]\n",
      "{'21_02', '14_09', '10_05', '11_07', '08_08', '08_05', '09_07', '16_09', '16_02', '12_04', '21_07', '20_02', '22_06', '14_06', '24_04', '11_03', '18_04', '20_06', '09_06', '12_05', '11_01', '15_02', '11_09', '21_04', '20_03', '12_02', '21_08', '18_01', '13_08', '10_07', '08_04', '09_09', '10_09', '18_02', '08_03', '28_01', '11_08', '13_09', '20_05', '16_08', '09_01', '12_01', '11_02', '16_04', '11_04', '15_05', '09_03', '07_03', '10_02', '17_04', '23_01', '22_09', '20_01', '07_05', '12_07', '15_07', '14_07', '18_03', '21_01', '07_04', '10_04', '13_01', '17_06'}\n"
     ]
    },
    {
     "name": "stderr",
     "output_type": "stream",
     "text": [
      "/Library/Frameworks/Python.framework/Versions/3.8/lib/python3.8/site-packages/pandas/core/frame.py:4167: SettingWithCopyWarning: \n",
      "A value is trying to be set on a copy of a slice from a DataFrame\n",
      "\n",
      "See the caveats in the documentation: https://pandas.pydata.org/pandas-docs/stable/user_guide/indexing.html#returning-a-view-versus-a-copy\n",
      "  return super().drop(\n"
     ]
    },
    {
     "ename": "KeyboardInterrupt",
     "evalue": "",
     "output_type": "error",
     "traceback": [
      "\u001b[0;31m---------------------------------------------------------------------------\u001b[0m",
      "\u001b[0;31mKeyboardInterrupt\u001b[0m                         Traceback (most recent call last)",
      "\u001b[0;32m<ipython-input-6-699337ea475e>\u001b[0m in \u001b[0;36m<module>\u001b[0;34m\u001b[0m\n\u001b[1;32m     40\u001b[0m     \u001b[0mValidation_data\u001b[0m\u001b[0;34m.\u001b[0m\u001b[0mto_csv\u001b[0m\u001b[0;34m(\u001b[0m\u001b[0;34mf\"./CV_Features_311/RegressionFeatures/Validation_CV_{cv_idx+1}.csv\"\u001b[0m\u001b[0;34m)\u001b[0m\u001b[0;34m\u001b[0m\u001b[0;34m\u001b[0m\u001b[0m\n\u001b[1;32m     41\u001b[0m \u001b[0;34m\u001b[0m\u001b[0m\n\u001b[0;32m---> 42\u001b[0;31m     \u001b[0;32mfor\u001b[0m \u001b[0midx\u001b[0m\u001b[0;34m,\u001b[0m \u001b[0mitem\u001b[0m \u001b[0;32min\u001b[0m \u001b[0mTrain_data\u001b[0m\u001b[0;34m.\u001b[0m\u001b[0miterrows\u001b[0m\u001b[0;34m(\u001b[0m\u001b[0;34m)\u001b[0m\u001b[0;34m:\u001b[0m\u001b[0;34m\u001b[0m\u001b[0;34m\u001b[0m\u001b[0m\n\u001b[0m\u001b[1;32m     43\u001b[0m         \u001b[0;32mif\u001b[0m \u001b[0mitem\u001b[0m\u001b[0;34m[\u001b[0m\u001b[0;34m'VideoName'\u001b[0m\u001b[0;34m]\u001b[0m\u001b[0;34m[\u001b[0m\u001b[0;34m:\u001b[0m\u001b[0;36m5\u001b[0m\u001b[0;34m]\u001b[0m \u001b[0;32min\u001b[0m \u001b[0mlist\u001b[0m\u001b[0;34m(\u001b[0m\u001b[0mdelete_info\u001b[0m\u001b[0;34m)\u001b[0m\u001b[0;34m:\u001b[0m\u001b[0;34m\u001b[0m\u001b[0;34m\u001b[0m\u001b[0m\n\u001b[1;32m     44\u001b[0m             \u001b[0mTrain_data\u001b[0m\u001b[0;34m.\u001b[0m\u001b[0mdrop\u001b[0m\u001b[0;34m(\u001b[0m\u001b[0mlabels\u001b[0m \u001b[0;34m=\u001b[0m \u001b[0midx\u001b[0m\u001b[0;34m,\u001b[0m\u001b[0minplace\u001b[0m\u001b[0;34m=\u001b[0m\u001b[0;32mTrue\u001b[0m\u001b[0;34m)\u001b[0m\u001b[0;34m\u001b[0m\u001b[0;34m\u001b[0m\u001b[0m\n",
      "\u001b[0;32m/Library/Frameworks/Python.framework/Versions/3.8/lib/python3.8/site-packages/pandas/core/frame.py\u001b[0m in \u001b[0;36miterrows\u001b[0;34m(self)\u001b[0m\n\u001b[1;32m   1012\u001b[0m         \u001b[0mklass\u001b[0m \u001b[0;34m=\u001b[0m \u001b[0mself\u001b[0m\u001b[0;34m.\u001b[0m\u001b[0m_constructor_sliced\u001b[0m\u001b[0;34m\u001b[0m\u001b[0;34m\u001b[0m\u001b[0m\n\u001b[1;32m   1013\u001b[0m         \u001b[0;32mfor\u001b[0m \u001b[0mk\u001b[0m\u001b[0;34m,\u001b[0m \u001b[0mv\u001b[0m \u001b[0;32min\u001b[0m \u001b[0mzip\u001b[0m\u001b[0;34m(\u001b[0m\u001b[0mself\u001b[0m\u001b[0;34m.\u001b[0m\u001b[0mindex\u001b[0m\u001b[0;34m,\u001b[0m \u001b[0mself\u001b[0m\u001b[0;34m.\u001b[0m\u001b[0mvalues\u001b[0m\u001b[0;34m)\u001b[0m\u001b[0;34m:\u001b[0m\u001b[0;34m\u001b[0m\u001b[0;34m\u001b[0m\u001b[0m\n\u001b[0;32m-> 1014\u001b[0;31m             \u001b[0ms\u001b[0m \u001b[0;34m=\u001b[0m \u001b[0mklass\u001b[0m\u001b[0;34m(\u001b[0m\u001b[0mv\u001b[0m\u001b[0;34m,\u001b[0m \u001b[0mindex\u001b[0m\u001b[0;34m=\u001b[0m\u001b[0mcolumns\u001b[0m\u001b[0;34m,\u001b[0m \u001b[0mname\u001b[0m\u001b[0;34m=\u001b[0m\u001b[0mk\u001b[0m\u001b[0;34m)\u001b[0m\u001b[0;34m\u001b[0m\u001b[0;34m\u001b[0m\u001b[0m\n\u001b[0m\u001b[1;32m   1015\u001b[0m             \u001b[0;32myield\u001b[0m \u001b[0mk\u001b[0m\u001b[0;34m,\u001b[0m \u001b[0ms\u001b[0m\u001b[0;34m\u001b[0m\u001b[0;34m\u001b[0m\u001b[0m\n\u001b[1;32m   1016\u001b[0m \u001b[0;34m\u001b[0m\u001b[0m\n",
      "\u001b[0;32m/Library/Frameworks/Python.framework/Versions/3.8/lib/python3.8/site-packages/pandas/core/series.py\u001b[0m in \u001b[0;36m__init__\u001b[0;34m(self, data, index, dtype, name, copy, fastpath)\u001b[0m\n\u001b[1;32m    325\u001b[0m                     \u001b[0mdata\u001b[0m \u001b[0;34m=\u001b[0m \u001b[0mdata\u001b[0m\u001b[0;34m.\u001b[0m\u001b[0mcopy\u001b[0m\u001b[0;34m(\u001b[0m\u001b[0;34m)\u001b[0m\u001b[0;34m\u001b[0m\u001b[0;34m\u001b[0m\u001b[0m\n\u001b[1;32m    326\u001b[0m             \u001b[0;32melse\u001b[0m\u001b[0;34m:\u001b[0m\u001b[0;34m\u001b[0m\u001b[0;34m\u001b[0m\u001b[0m\n\u001b[0;32m--> 327\u001b[0;31m                 \u001b[0mdata\u001b[0m \u001b[0;34m=\u001b[0m \u001b[0msanitize_array\u001b[0m\u001b[0;34m(\u001b[0m\u001b[0mdata\u001b[0m\u001b[0;34m,\u001b[0m \u001b[0mindex\u001b[0m\u001b[0;34m,\u001b[0m \u001b[0mdtype\u001b[0m\u001b[0;34m,\u001b[0m \u001b[0mcopy\u001b[0m\u001b[0;34m,\u001b[0m \u001b[0mraise_cast_failure\u001b[0m\u001b[0;34m=\u001b[0m\u001b[0;32mTrue\u001b[0m\u001b[0;34m)\u001b[0m\u001b[0;34m\u001b[0m\u001b[0;34m\u001b[0m\u001b[0m\n\u001b[0m\u001b[1;32m    328\u001b[0m \u001b[0;34m\u001b[0m\u001b[0m\n\u001b[1;32m    329\u001b[0m                 \u001b[0mdata\u001b[0m \u001b[0;34m=\u001b[0m \u001b[0mSingleBlockManager\u001b[0m\u001b[0;34m.\u001b[0m\u001b[0mfrom_array\u001b[0m\u001b[0;34m(\u001b[0m\u001b[0mdata\u001b[0m\u001b[0;34m,\u001b[0m \u001b[0mindex\u001b[0m\u001b[0;34m)\u001b[0m\u001b[0;34m\u001b[0m\u001b[0;34m\u001b[0m\u001b[0m\n",
      "\u001b[0;32m/Library/Frameworks/Python.framework/Versions/3.8/lib/python3.8/site-packages/pandas/core/construction.py\u001b[0m in \u001b[0;36msanitize_array\u001b[0;34m(data, index, dtype, copy, raise_cast_failure)\u001b[0m\n\u001b[1;32m    511\u001b[0m \u001b[0;34m\u001b[0m\u001b[0m\n\u001b[1;32m    512\u001b[0m         \u001b[0;32mif\u001b[0m \u001b[0mis_object_dtype\u001b[0m\u001b[0;34m(\u001b[0m\u001b[0msubarr\u001b[0m\u001b[0;34m.\u001b[0m\u001b[0mdtype\u001b[0m\u001b[0;34m)\u001b[0m \u001b[0;32mand\u001b[0m \u001b[0;32mnot\u001b[0m \u001b[0mis_object_dtype\u001b[0m\u001b[0;34m(\u001b[0m\u001b[0mdtype\u001b[0m\u001b[0;34m)\u001b[0m\u001b[0;34m:\u001b[0m\u001b[0;34m\u001b[0m\u001b[0;34m\u001b[0m\u001b[0m\n\u001b[0;32m--> 513\u001b[0;31m             \u001b[0minferred\u001b[0m \u001b[0;34m=\u001b[0m \u001b[0mlib\u001b[0m\u001b[0;34m.\u001b[0m\u001b[0minfer_dtype\u001b[0m\u001b[0;34m(\u001b[0m\u001b[0msubarr\u001b[0m\u001b[0;34m,\u001b[0m \u001b[0mskipna\u001b[0m\u001b[0;34m=\u001b[0m\u001b[0;32mFalse\u001b[0m\u001b[0;34m)\u001b[0m\u001b[0;34m\u001b[0m\u001b[0;34m\u001b[0m\u001b[0m\n\u001b[0m\u001b[1;32m    514\u001b[0m             \u001b[0;32mif\u001b[0m \u001b[0minferred\u001b[0m \u001b[0;32min\u001b[0m \u001b[0;34m{\u001b[0m\u001b[0;34m\"interval\"\u001b[0m\u001b[0;34m,\u001b[0m \u001b[0;34m\"period\"\u001b[0m\u001b[0;34m}\u001b[0m\u001b[0;34m:\u001b[0m\u001b[0;34m\u001b[0m\u001b[0;34m\u001b[0m\u001b[0m\n\u001b[1;32m    515\u001b[0m                 \u001b[0msubarr\u001b[0m \u001b[0;34m=\u001b[0m \u001b[0marray\u001b[0m\u001b[0;34m(\u001b[0m\u001b[0msubarr\u001b[0m\u001b[0;34m)\u001b[0m\u001b[0;34m\u001b[0m\u001b[0;34m\u001b[0m\u001b[0m\n",
      "\u001b[0;32mpandas/_libs/lib.pyx\u001b[0m in \u001b[0;36mpandas._libs.lib.infer_dtype\u001b[0;34m()\u001b[0m\n",
      "\u001b[0;32mpandas/_libs/lib.pyx\u001b[0m in \u001b[0;36mpandas._libs.lib._try_infer_map\u001b[0;34m()\u001b[0m\n",
      "\u001b[0;32m/Library/Frameworks/Python.framework/Versions/3.8/lib/python3.8/site-packages/numpy/core/_dtype.py\u001b[0m in \u001b[0;36m_name_get\u001b[0;34m(dtype)\u001b[0m\n\u001b[1;32m    331\u001b[0m \u001b[0;34m\u001b[0m\u001b[0m\n\u001b[1;32m    332\u001b[0m \u001b[0;34m\u001b[0m\u001b[0m\n\u001b[0;32m--> 333\u001b[0;31m \u001b[0;32mdef\u001b[0m \u001b[0m_name_get\u001b[0m\u001b[0;34m(\u001b[0m\u001b[0mdtype\u001b[0m\u001b[0;34m)\u001b[0m\u001b[0;34m:\u001b[0m\u001b[0;34m\u001b[0m\u001b[0;34m\u001b[0m\u001b[0m\n\u001b[0m\u001b[1;32m    334\u001b[0m     \u001b[0;31m# provides dtype.name.__get__, documented as returning a \"bit name\"\u001b[0m\u001b[0;34m\u001b[0m\u001b[0;34m\u001b[0m\u001b[0;34m\u001b[0m\u001b[0m\n\u001b[1;32m    335\u001b[0m \u001b[0;34m\u001b[0m\u001b[0m\n",
      "\u001b[0;31mKeyboardInterrupt\u001b[0m: "
     ]
    }
   ],
   "source": [
    "# manually delete the first two cols\n",
    "features = pd.read_csv('./1_Features_raw/Regression_Speaker_Visual_hog_final_session2.csv')\n",
    "participate = pd.read_csv(\"Final_results_0620_1721.csv\")\n",
    "for cv_idx, key in enumerate(cv_dataset):\n",
    "    Test_sessions = cv_dataset[key][\"Test\"]\n",
    "    print(\"Test sessions = \",Test_sessions )\n",
    "    Validation_sessions = cv_dataset[key][\"Validation\"]\n",
    "    Train_sessions = cv_dataset[key][\"Train\"]\n",
    "    \n",
    "    # ---------------------\n",
    "    # load data\n",
    "    # ---------------------\n",
    "    Test_data = features[features['Session'].isin(Test_sessions)]\n",
    "    Test_data.to_csv(f\"./CV_Features/RegressionFeatures/Test_CV_{cv_idx+1}.csv\")\n",
    "    Validation_data = features[features['Session'].isin(Validation_sessions)]\n",
    "    Train_data = features[features['Session'].isin(Train_sessions)]\n",
    "\n",
    "    # ---------------------\n",
    "    # speaker independent\n",
    "    # ---------------------\n",
    "    # (1) delete instance\n",
    "    delete_info = set()\n",
    "    Test_Overlap = participate[participate['Round'].isin(cv_dataset[key][\"Test\"])]\n",
    "    for idx, item in Test_Overlap.iterrows():\n",
    "        values = set(item.values[6:-1])\n",
    "        for temp in values:\n",
    "            if type(temp)!=float:\n",
    "                if int(temp.split('-')[0]) not in Test_sessions:\n",
    "                    if int(temp.split('-')[0])<10:\n",
    "                        temp = '0'+ temp\n",
    "                        delete_info.add(temp.replace(\"-\",\"_\"))\n",
    "                    else:\n",
    "                         delete_info.add(temp.replace(\"-\",\"_\"))\n",
    "    print(delete_info)\n",
    "    \n",
    "    # (2) 整理Validation and Train data\n",
    "    for idx, item in Validation_data.iterrows():\n",
    "        if item['VideoName'][:5] in list(delete_info):\n",
    "            Validation_data.drop(labels = idx,inplace=True)\n",
    "    Validation_data.to_csv(f\"./CV_Features_311/RegressionFeatures/Validation_CV_{cv_idx+1}.csv\")\n",
    "    \n",
    "    for idx, item in Train_data.iterrows():\n",
    "        if item['VideoName'][:5] in list(delete_info):\n",
    "            Train_data.drop(labels = idx,inplace=True)\n",
    "    Train_data.to_csv(f\"./CV_Features_311/RegressionFeatures/Train_CV_{cv_idx+1}.csv\")"
   ]
  },
  {
   "cell_type": "code",
   "execution_count": null,
   "metadata": {},
   "outputs": [],
   "source": []
  }
 ],
 "metadata": {
  "kernelspec": {
   "display_name": "Python 3.7.1 64-bit",
   "language": "python",
   "name": "python37164bit395e14d61e31467c92df2f870180e68d"
  },
  "language_info": {
   "codemirror_mode": {
    "name": "ipython",
    "version": 3
   },
   "file_extension": ".py",
   "mimetype": "text/x-python",
   "name": "python",
   "nbconvert_exporter": "python",
   "pygments_lexer": "ipython3",
   "version": "3.8.3"
  },
  "varInspector": {
   "cols": {
    "lenName": 16,
    "lenType": 16,
    "lenVar": 40
   },
   "kernels_config": {
    "python": {
     "delete_cmd_postfix": "",
     "delete_cmd_prefix": "del ",
     "library": "var_list.py",
     "varRefreshCmd": "print(var_dic_list())"
    },
    "r": {
     "delete_cmd_postfix": ") ",
     "delete_cmd_prefix": "rm(",
     "library": "var_list.r",
     "varRefreshCmd": "cat(var_dic_list()) "
    }
   },
   "types_to_exclude": [
    "module",
    "function",
    "builtin_function_or_method",
    "instance",
    "_Feature"
   ],
   "window_display": false
  }
 },
 "nbformat": 4,
 "nbformat_minor": 4
}
