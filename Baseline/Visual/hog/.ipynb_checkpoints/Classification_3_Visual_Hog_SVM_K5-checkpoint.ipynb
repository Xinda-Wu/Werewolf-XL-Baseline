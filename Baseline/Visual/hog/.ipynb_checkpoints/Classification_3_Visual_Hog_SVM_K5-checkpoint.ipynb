{
 "cells": [
  {
   "cell_type": "code",
   "execution_count": null,
   "id": "threaded-doctrine",
   "metadata": {},
   "outputs": [],
   "source": [
    "import os\n",
    "import numpy as np\n",
    "from time import time\n",
    "import datetime\n",
    "import pandas as pd\n",
    "import tqdm\n",
    "from sklearn.svm import SVC\n",
    "from sklearn.preprocessing import StandardScaler, LabelEncoder\n",
    "from sklearn.model_selection import GridSearchCV, train_test_split\n",
    "from sklearn.metrics import roc_auc_score, recall_score, accuracy_score, f1_score\n",
    "from sklearn.multiclass import OneVsRestClassifier, OneVsOneClassifier\n",
    "from sklearn.preprocessing import label_binarize\n",
    "from sklearn.model_selection import cross_val_score"
   ]
  },
  {
   "cell_type": "code",
   "execution_count": null,
   "id": "jewish-ground",
   "metadata": {},
   "outputs": [],
   "source": [
    "filepath ='Speaker_Visual_Hog_6PNN.csv'\n",
    "data = pd.read_csv(filepath)\n",
    "x = data.iloc[:, 6:]  # 数据特征\n",
    "y = data.iloc[:,1]  # 标签\n",
    "# 将数据划分为训练集和测试集，test_size=.3表示30%的测试集, 随机数种子, 保证可复现性\n",
    "x_train, x_test, y_train, y_test = train_test_split(x, y, test_size=.2, random_state=324)"
   ]
  },
  {
   "cell_type": "code",
   "execution_count": null,
   "id": "passing-basketball",
   "metadata": {},
   "outputs": [],
   "source": [
    "x_train"
   ]
  },
  {
   "cell_type": "code",
   "execution_count": null,
   "id": "headed-dubai",
   "metadata": {},
   "outputs": [],
   "source": [
    "y_train"
   ]
  },
  {
   "cell_type": "code",
   "execution_count": null,
   "id": "desirable-addition",
   "metadata": {},
   "outputs": [],
   "source": [
    "# 修正测试集和训练集的索引\n",
    "for i in [x_train, x_test, y_train, y_test ]:\n",
    "    i.index  = range(i.shape[0])\n",
    "\n",
    "# Y 将标签编码\n",
    "encoder = LabelEncoder().fit(y_train) # #训练LabelEncoder, 把y_train中的类别编码为0，1，2，3，4，5\n",
    "y = encoder.transform(y_train)\n",
    "# print(\"class = \", y)\n",
    "y_train = pd.DataFrame(encoder.transform(y_train)) # 使用训练好的LabelEncoder对源数据进行编码\n",
    "y_test = pd.DataFrame(encoder.transform(y_test))\n",
    "# print(\"y_test = \", y_test[0:10])\n",
    "\n",
    "# 标签降维度\n",
    "y_train = y_train.iloc[:,0].ravel()\n",
    "y_test = y_test.iloc[:,0].ravel()\n",
    "\n",
    "# X标准化\n",
    "scaler = StandardScaler()\n",
    "x_train_std = scaler.fit_transform(x_train)  # 标准化\n",
    "x_test_std = scaler.fit_transform(x_test)\n",
    "\n",
    "# Spend Time\n",
    "time0 = time()\n",
    "\n",
    "# Basic SVM Model (gamma =  0.04888888888888889,  C = 1.13333333333,)      \n",
    "# sklearn通过OneVsRestClassifier实现svm.SVC的多分类\n",
    "clf = OneVsRestClassifier(SVC(kernel = 'rbf', \n",
    "        degree=1,\n",
    "        C=1, # default\n",
    "        cache_size=5000,\n",
    "        probability=True,\n",
    "        class_weight='balanced'))\n",
    "\n",
    "\n",
    "# 超参数 Gamma\n",
    "gamma_range = np.logspace(-10, 1, 10, base=2) # 返回13个数字，底是2\n",
    "print(gamma_range)\n",
    "\n",
    "parameters = {\n",
    "\"estimator__C\": [1],\n",
    "\"estimator__kernel\": [\"rbf\"],\n",
    "\"estimator__degree\":[1],\n",
    "\"estimator__gamma\":gamma_range,\n",
    "}\n",
    "\n",
    "# evaluation Metrics\n",
    "score = 'accuracy'\n",
    "\n",
    "# Grid Search params\n",
    "model_tunning = GridSearchCV(clf, \n",
    "                             param_grid=parameters,\n",
    "                             n_jobs=-1, \n",
    "                             cv=5,\n",
    "                             verbose = 32,\n",
    "                             scoring=score)\n",
    "model_tunning.fit(x_train_std, y_train)"
   ]
  },
  {
   "cell_type": "code",
   "execution_count": null,
   "id": "backed-wildlife",
   "metadata": {},
   "outputs": [],
   "source": [
    "print(model_tunning.best_score_)\n",
    "print(model_tunning.best_params_)\n",
    "bst = model_tunning.best_estimator_\n",
    "preds = bst.predict(x_test)\n",
    "y_test_prediction = bst.predict(x_test)\n",
    "# accuracy\n",
    "accuracy = accuracy_score(y_test,y_test_prediction)\n",
    "print(\"accuracy = \", accuracy)\n",
    "# F1-score\n",
    "f1 = f1_score(y_test,y_test_prediction, average=\"weighted\")\n",
    "print(\"f1 score = \", f1)\n",
    "    \n",
    "# AUC\n",
    "y_test_binary = label_binarize(y_test, classes=list(range(6))) # 转化为one-hot\n",
    "result = bst.decision_function(x_test_std)\n",
    "auc = roc_auc_score(y_test_binary, result, average = 'micro') # 多类分类下，要用概率值（形式二） ，加参数 average='micro'  （不能用ont-hot (形式三) ）\n",
    "print(\"AUC = \", auc)\n",
    "\n",
    "print(datetime.datetime.fromtimestamp(time()-time0).strftime(\"%M:%S:%f\"))\n",
    "print()"
   ]
  },
  {
   "cell_type": "code",
   "execution_count": null,
   "id": "latin-garden",
   "metadata": {},
   "outputs": [],
   "source": [
    "result = bst.predict_proba(x_test_std)\n",
    "df = pd.DataFrame(result)\n",
    "df.to_csv(\"./results_0327/categorical_hog_6pnn_20210327_prediction.csv\")\n",
    "df2 = pd.DataFrame(y_test)\n",
    "df2.to_csv(\"./results_0327/categorical_hog_6pnn_20210327_GT.csv\")\n",
    "print(\"save success!\")"
   ]
  },
  {
   "cell_type": "code",
   "execution_count": null,
   "id": "several-conversation",
   "metadata": {},
   "outputs": [],
   "source": []
  }
 ],
 "metadata": {
  "kernelspec": {
   "display_name": "Python 3",
   "language": "python",
   "name": "python3"
  },
  "language_info": {
   "codemirror_mode": {
    "name": "ipython",
    "version": 3
   },
   "file_extension": ".py",
   "mimetype": "text/x-python",
   "name": "python",
   "nbconvert_exporter": "python",
   "pygments_lexer": "ipython3",
   "version": "3.7.5"
  }
 },
 "nbformat": 4,
 "nbformat_minor": 5
}
