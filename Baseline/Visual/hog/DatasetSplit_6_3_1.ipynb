{
 "cells": [
  {
   "cell_type": "code",
   "execution_count": 28,
   "metadata": {},
   "outputs": [
    {
     "name": "stdout",
     "output_type": "stream",
     "text": [
      "[1, 2, 3, 4, 5, 6, 7, 8, 9, 10, 11, 12, 13, 14, 15, 16, 17, 18, 19, 20, 21, 22, 23, 24, 25, 26, 27, 28, 29, 30]\n",
      "CV = 1\n",
      "Test >>> [1, 2, 3] Validation >>> [4, 5, 6, 7, 8, 9, 10, 11, 12]\n",
      "Train >>> [10, 11, 12, 13, 14, 15, 16, 17, 18, 19, 20, 21, 22, 23, 24, 25, 26, 27, 28, 29, 30]\n",
      "\n",
      "CV = 2\n",
      "Test >>> [4, 5, 6] Validation >>> [7, 8, 9, 10, 11, 12, 13, 14, 15]\n",
      "Train >>> [1, 2, 3, 13, 14, 15, 16, 17, 18, 19, 20, 21, 22, 23, 24, 25, 26, 27, 28, 29, 30]\n",
      "\n",
      "CV = 3\n",
      "Test >>> [7, 8, 9] Validation >>> [10, 11, 12, 13, 14, 15, 16, 17, 18]\n",
      "Train >>> [1, 2, 3, 4, 5, 6, 16, 17, 18, 19, 20, 21, 22, 23, 24, 25, 26, 27, 28, 29, 30]\n",
      "\n",
      "CV = 4\n",
      "Test >>> [10, 11, 12] Validation >>> [13, 14, 15, 16, 17, 18, 19, 20, 21]\n",
      "Train >>> [1, 2, 3, 4, 5, 6, 7, 8, 9, 19, 20, 21, 22, 23, 24, 25, 26, 27, 28, 29, 30]\n",
      "\n",
      "CV = 5\n",
      "Test >>> [13, 14, 15] Validation >>> [16, 17, 18, 19, 20, 21, 22, 23, 24]\n",
      "Train >>> [1, 2, 3, 4, 5, 6, 7, 8, 9, 10, 11, 12, 22, 23, 24, 25, 26, 27, 28, 29, 30]\n",
      "\n",
      "CV = 6\n",
      "Test >>> [16, 17, 18] Validation >>> [19, 20, 21, 22, 23, 24, 25, 26, 27]\n",
      "Train >>> [1, 2, 3, 4, 5, 6, 7, 8, 9, 10, 11, 12, 13, 14, 15, 25, 26, 27, 28, 29, 30]\n",
      "\n",
      "CV = 7\n",
      "Test >>> [19, 20, 21] Validation >>> [22, 23, 24, 25, 26, 27, 28, 29, 30]\n",
      "Train >>> [1, 2, 3, 4, 5, 6, 7, 8, 9, 10, 11, 12, 13, 14, 15, 16, 17, 18, 28, 29, 30]\n",
      "\n",
      "CV = 8\n",
      "Test >>> [22, 23, 24] Validation >>> [25, 26, 27, 28, 29, 30, 1, 2, 3]\n",
      "Train >>> [4, 5, 6, 7, 8, 9, 10, 11, 12, 13, 14, 15, 16, 17, 18, 19, 20, 21]\n",
      "\n",
      "CV = 9\n",
      "Test >>> [25, 26, 27] Validation >>> [28, 29, 30, 1, 2, 3, 4, 5, 6]\n",
      "Train >>> [7, 8, 9, 10, 11, 12, 13, 14, 15, 16, 17, 18, 19, 20, 21, 22, 23, 24]\n",
      "\n",
      "CV = 10\n",
      "Test >>> [28, 29, 30] Validation >>> [1, 2, 3, 4, 5, 6, 7, 8, 9]\n",
      "Train >>> [10, 11, 12, 13, 14, 15, 16, 17, 18, 19, 20, 21, 22, 23, 24, 25, 26, 27]\n",
      "\n"
     ]
    }
   ],
   "source": [
    "import os \n",
    "import numpy as np\n",
    "import pandas as pd\n",
    "\n",
    "all_session =[i for i in range(1,31)]\n",
    "print(all_session)\n",
    "cv_dataset = {}\n",
    "for i in range(0,10): # CV = 10\n",
    "    if i <7:\n",
    "        cv_dataset[f\"CV_{i+1}\"] = {\n",
    "            \"Test\":all_session[i*3:3*(i+1)],\n",
    "            \"Validation\":all_session[(i+1)*3:(i+1)*3+9],\n",
    "            \"Train\":list(set(all_session) - set(all_session[i*3:3*(i+1)])- set(all_session[(i+1)*3:(i+1)*3+6]))\n",
    "        }\n",
    "    if i ==7:\n",
    "        cv_dataset[f\"CV_{i+1}\"] = {\n",
    "            \"Test\":all_session[i*3:3*(i+1)],\n",
    "            \"Validation\":[25,26,27,28,29,30,1,2,3],\n",
    "            \"Train\":list(set(all_session) - set(all_session[i*3:3*(i+1)])- set([25,26,27,28,29,30,1,2,3]))\n",
    "        }\n",
    "    if i ==8:\n",
    "        cv_dataset[f\"CV_{i+1}\"] = {\n",
    "            \"Test\":all_session[i*3:3*(i+1)],\n",
    "            \"Validation\":[28,29,30,1,2,3,4,5,6],\n",
    "            \"Train\":list(set(all_session) - set(all_session[i*3:3*(i+1)])- set([28,29,30,1,2,3,4,5,6]))\n",
    "        }\n",
    "    if i ==9:\n",
    "        cv_dataset[f\"CV_{i+1}\"] = {\n",
    "            \"Test\":all_session[i*3:3*(i+1)],\n",
    "            \"Validation\":[1,2,3,4,5,6,7,8,9],\n",
    "            \"Train\":list(set(all_session) - set(all_session[i*3:3*(i+1)])- set([1,2,3,4,5,6,7,8,9]))\n",
    "        }\n",
    "        \n",
    "\n",
    "for idx,item in enumerate(cv_dataset):\n",
    "    print(f\"CV = {idx+1}\")\n",
    "    print(f\"Test >>> {cv_dataset[item]['Test']} Validation >>> {cv_dataset[item]['Validation']}\")\n",
    "    print(f\"Train >>> {cv_dataset[item]['Train']}\\n\")"
   ]
  },
  {
   "cell_type": "code",
   "execution_count": 29,
   "metadata": {},
   "outputs": [
    {
     "data": {
      "text/plain": [
       "10"
      ]
     },
     "execution_count": 29,
     "metadata": {},
     "output_type": "execute_result"
    }
   ],
   "source": [
    "len(cv_dataset)"
   ]
  },
  {
   "cell_type": "markdown",
   "metadata": {},
   "source": [
    "# Add Session Infomation"
   ]
  },
  {
   "cell_type": "code",
   "execution_count": 14,
   "metadata": {},
   "outputs": [],
   "source": [
    "# Add Session Information, 先自己加一行 Session列\n",
    "features = pd.read_csv('./1_Features_raw/Regression_Speaker_Visual_hog_final_session.csv')\n",
    "for idx, item in features.iterrows():\n",
    "    session = int(item['VideoName'][:2])\n",
    "    features.iloc[idx, 0] = session\n",
    "features.to_csv('./1_Features_raw/Regression_Speaker_Visual_hog_final_session2.csv')"
   ]
  },
  {
   "cell_type": "markdown",
   "metadata": {},
   "source": [
    "# Create CV dataset \n",
    "## (1) For Classification"
   ]
  },
  {
   "cell_type": "code",
   "execution_count": 30,
   "metadata": {},
   "outputs": [
    {
     "name": "stdout",
     "output_type": "stream",
     "text": [
      "Test sessions =  [1, 2, 3]\n",
      "{'20_03', '12_02', '20_02', '06_08', '09_09', '04_01', '22_09', '05_08', '04_02', '13_01', '14_09', '21_04', '09_01', '09_07', '16_02', '20_06', '17_06', '20_05', '05_04', '09_06', '07_03', '18_02', '21_07', '08_05', '15_02', '16_04', '21_02', '11_03', '08_04', '04_04', '10_05', '08_03', '13_08', '07_05', '18_01', '21_08', '17_04', '16_08', '12_05'}\n"
     ]
    },
    {
     "name": "stderr",
     "output_type": "stream",
     "text": [
      "/Library/Frameworks/Python.framework/Versions/3.8/lib/python3.8/site-packages/pandas/core/frame.py:4167: SettingWithCopyWarning: \n",
      "A value is trying to be set on a copy of a slice from a DataFrame\n",
      "\n",
      "See the caveats in the documentation: https://pandas.pydata.org/pandas-docs/stable/user_guide/indexing.html#returning-a-view-versus-a-copy\n",
      "  return super().drop(\n"
     ]
    },
    {
     "name": "stdout",
     "output_type": "stream",
     "text": [
      "Test sessions =  [4, 5, 6]\n",
      "{'11_01', '14_07', '12_04', '11_09', '21_04', '11_02', '09_07', '14_06', '10_07', '23_01', '10_09', '12_01', '22_06', '07_04', '10_04', '18_03', '03_06', '11_07', '10_02', '21_01', '20_01', '24_04', '15_07', '15_02', '15_05', '02_09', '12_07', '18_04', '13_09', '11_04', '10_05', '08_03', '03_09', '07_05', '03_03', '11_08', '09_03', '16_09', '17_04', '28_01', '08_08', '01_01', '16_08'}\n",
      "Test sessions =  [7, 8, 9]\n",
      "{'12_02', '20_02', '11_06', '02_05', '04_05', '18_08', '22_05', '14_09', '13_07', '13_01', '16_02', '06_09', '14_02', '17_06', '20_06', '18_06', '05_04', '20_05', '24_09', '11_05', '10_04', '18_03', '02_08', '10_08', '03_06', '21_07', '21_01', '01_09', '20_01', '10_03', '16_04', '12_03', '21_09', '17_08', '03_05', '13_06', '04_04', '03_01', '12_08', '12_09', '20_09', '11_08', '18_07', '18_01', '01_02', '01_01', '05_05', '12_05'}\n",
      "Test sessions =  [10, 11, 12]\n",
      "{'08_09', '04_01', '14_07', '22_09', '07_02', '13_07', '21_04', '18_08', '17_03', '08_01', '14_06', '22_05', '07_08', '06_09', '20_06', '17_06', '23_01', '06_03', '07_03', '24_09', '07_04', '02_07', '21_07', '09_08', '05_06', '01_09', '24_04', '15_07', '08_05', '04_06', '15_05', '16_04', '06_05', '04_03', '13_06', '18_04', '13_09', '03_01', '06_06', '09_02', '03_09', '18_07', '05_07', '05_03', '21_08', '04_09', '16_09', '09_04', '17_04', '08_08', '22_06', '05_05', '08_07'}\n",
      "Test sessions =  [13, 14, 15]\n",
      "{'20_02', '11_01', '11_06', '02_05', '20_04', '04_02', '12_04', '21_03', '08_01', '11_02', '16_02', '10_07', '09_01', '16_07', '09_06', '01_05', '17_01', '02_08', '19_08', '11_07', '22_03', '05_06', '10_03', '04_06', '06_05', '16_05', '18_04', '06_06', '17_07', '09_02', '03_03', '20_08', '16_01', '18_01', '05_07', '16_06', '16_09', '22_06', '16_08', '07_07'}\n",
      "Test sessions =  [16, 17, 18]\n",
      "{'20_03', '20_02', '11_01', '15_04', '13_05', '14_05', '04_01', '07_02', '02_05', '04_05', '04_02', '12_04', '13_01', '21_04', '14_09', '22_05', '09_01', '07_08', '14_08', '22_02', '12_06', '09_06', '07_09', '07_03', '27_06', '27_09', '24_09', '13_02', '02_08', '22_03', '21_01', '20_01', '15_07', '15_02', '15_05', '12_03', '21_02', '06_05', '15_03', '10_05', '03_01', '12_08', '01_03', '03_09', '03_03', '14_04', '05_07', '09_03', '09_04', '12_05'}\n",
      "Test sessions =  [19, 20, 21]\n",
      "{'12_02', '09_09', '04_01', '22_09', '02_05', '04_05', '14_09', '22_04', '09_01', '07_01', '13_03', '18_02', '18_03', '15_08', '24_05', '02_07', '01_09', '08_05', '11_03', '10_05', '01_03', '03_09', '18_01', '14_03', '09_03', '17_04', '01_02', '23_03'}\n",
      "Test sessions =  [22, 23, 24]\n",
      "{'07_02', '14_07', '30_02', '18_08', '11_02', '07_08', '14_08', '12_01', '06_03', '27_06', '21_05', '05_06', '12_03', '25_05', '12_07', '26_06', '11_03', '11_04', '12_08', '17_07', '17_09', '25_08', '18_07', '05_03', '21_08', '09_04', '02_07'}\n",
      "Test sessions =  [25, 26, 27]\n",
      "{'28_06', '22_02', '28_04', '28_02', '18_05', '24_07', '28_03', '29_06', '30_06', '23_07', '29_08', '24_03', '30_05', '29_02', '30_09', '29_05', '28_05', '17_09'}\n",
      "Test sessions =  [28, 29, 30]\n",
      "{'27_07', '27_03', '05_02', '26_04', '27_02', '26_09', '25_04', '25_03', '26_03', '23_09', '27_08', '26_02'}\n"
     ]
    }
   ],
   "source": [
    "# manually delete the first two cols\n",
    "features = pd.read_csv('./1_Features_raw/Classification_Speaker_Visual_Hog_6PNN_session2.csv')\n",
    "participate = pd.read_csv(\"Final_results_0620_1721.csv\")\n",
    "for cv_idx, key in enumerate(cv_dataset):\n",
    "    Test_sessions = cv_dataset[key][\"Test\"]\n",
    "    print(\"Test sessions = \",Test_sessions )\n",
    "    Validation_sessions = cv_dataset[key][\"Validation\"]\n",
    "    Train_sessions = cv_dataset[key][\"Train\"]\n",
    "    \n",
    "    # ---------------------\n",
    "    # load data\n",
    "    # ---------------------\n",
    "    Test_data = features[features['Session'].isin(Test_sessions)]\n",
    "    Test_data.to_csv(f\"./CV_Features_631/ClassificationFeatures/Test_CV_{cv_idx+1}.csv\")\n",
    "    Validation_data = features[features['Session'].isin(Validation_sessions)]\n",
    "    Train_data = features[features['Session'].isin(Train_sessions)]\n",
    "\n",
    "    # ---------------------\n",
    "    # speaker independent\n",
    "    # ---------------------\n",
    "    # (1) delete instance\n",
    "    delete_info = set()\n",
    "    Test_Overlap = participate[participate['Round'].isin(cv_dataset[key][\"Test\"])]\n",
    "    for idx, item in Test_Overlap.iterrows():\n",
    "        values = set(item.values[6:-1])\n",
    "        for temp in values:\n",
    "            if type(temp)!=float:\n",
    "                if int(temp.split('-')[0]) not in Test_sessions:\n",
    "                    if int(temp.split('-')[0])<10:\n",
    "                        temp = '0'+ temp\n",
    "                        delete_info.add(temp.replace(\"-\",\"_\"))\n",
    "                    else:\n",
    "                         delete_info.add(temp.replace(\"-\",\"_\"))\n",
    "    print(delete_info)\n",
    "    \n",
    "    # (2) 整理Validation and Train data\n",
    "    for idx, item in Validation_data.iterrows():\n",
    "        if item['VideoName'][:5] in list(delete_info):\n",
    "            Validation_data.drop(labels = idx,inplace=True)\n",
    "    Validation_data.to_csv(f\"./CV_Features_631/ClassificationFeatures/Validation_CV_{cv_idx+1}.csv\")\n",
    "    \n",
    "    for idx, item in Train_data.iterrows():\n",
    "        if item['VideoName'][:5] in list(delete_info):\n",
    "            Train_data.drop(labels = idx,inplace=True)\n",
    "    Train_data.to_csv(f\"./CV_Features_631/ClassificationFeatures/Train_CV_{cv_idx+1}.csv\")"
   ]
  },
  {
   "cell_type": "markdown",
   "metadata": {},
   "source": [
    "## (2) For Regression"
   ]
  },
  {
   "cell_type": "code",
   "execution_count": 31,
   "metadata": {},
   "outputs": [
    {
     "name": "stdout",
     "output_type": "stream",
     "text": [
      "Test sessions =  [1, 2, 3]\n",
      "{'20_03', '12_02', '20_02', '06_08', '09_09', '04_01', '22_09', '05_08', '04_02', '13_01', '14_09', '21_04', '09_01', '09_07', '16_02', '20_06', '17_06', '20_05', '05_04', '09_06', '07_03', '18_02', '21_07', '08_05', '15_02', '16_04', '21_02', '11_03', '08_04', '04_04', '10_05', '08_03', '13_08', '07_05', '18_01', '21_08', '17_04', '16_08', '12_05'}\n"
     ]
    },
    {
     "name": "stderr",
     "output_type": "stream",
     "text": [
      "/Library/Frameworks/Python.framework/Versions/3.8/lib/python3.8/site-packages/pandas/core/frame.py:4167: SettingWithCopyWarning: \n",
      "A value is trying to be set on a copy of a slice from a DataFrame\n",
      "\n",
      "See the caveats in the documentation: https://pandas.pydata.org/pandas-docs/stable/user_guide/indexing.html#returning-a-view-versus-a-copy\n",
      "  return super().drop(\n"
     ]
    },
    {
     "name": "stdout",
     "output_type": "stream",
     "text": [
      "Test sessions =  [4, 5, 6]\n",
      "{'11_01', '14_07', '12_04', '11_09', '21_04', '11_02', '09_07', '14_06', '10_07', '23_01', '10_09', '12_01', '22_06', '07_04', '10_04', '18_03', '03_06', '11_07', '10_02', '21_01', '20_01', '24_04', '15_07', '15_02', '15_05', '02_09', '12_07', '18_04', '13_09', '11_04', '10_05', '08_03', '03_09', '07_05', '03_03', '11_08', '09_03', '16_09', '17_04', '28_01', '08_08', '01_01', '16_08'}\n",
      "Test sessions =  [7, 8, 9]\n",
      "{'12_02', '20_02', '11_06', '02_05', '04_05', '18_08', '22_05', '14_09', '13_07', '13_01', '16_02', '06_09', '14_02', '17_06', '20_06', '18_06', '05_04', '20_05', '24_09', '11_05', '10_04', '18_03', '02_08', '10_08', '03_06', '21_07', '21_01', '01_09', '20_01', '10_03', '16_04', '12_03', '21_09', '17_08', '03_05', '13_06', '04_04', '03_01', '12_08', '12_09', '20_09', '11_08', '18_07', '18_01', '01_02', '01_01', '05_05', '12_05'}\n",
      "Test sessions =  [10, 11, 12]\n",
      "{'08_09', '04_01', '14_07', '22_09', '07_02', '13_07', '21_04', '18_08', '17_03', '08_01', '14_06', '22_05', '07_08', '06_09', '20_06', '17_06', '23_01', '06_03', '07_03', '24_09', '07_04', '02_07', '21_07', '09_08', '05_06', '01_09', '24_04', '15_07', '08_05', '04_06', '15_05', '16_04', '06_05', '04_03', '13_06', '18_04', '13_09', '03_01', '06_06', '09_02', '03_09', '18_07', '05_07', '05_03', '21_08', '04_09', '16_09', '09_04', '17_04', '08_08', '22_06', '05_05', '08_07'}\n",
      "Test sessions =  [13, 14, 15]\n",
      "{'20_02', '11_01', '11_06', '02_05', '20_04', '04_02', '12_04', '21_03', '08_01', '11_02', '16_02', '10_07', '09_01', '16_07', '09_06', '01_05', '17_01', '02_08', '19_08', '11_07', '22_03', '05_06', '10_03', '04_06', '06_05', '16_05', '18_04', '06_06', '17_07', '09_02', '03_03', '20_08', '16_01', '18_01', '05_07', '16_06', '16_09', '22_06', '16_08', '07_07'}\n",
      "Test sessions =  [16, 17, 18]\n",
      "{'20_03', '20_02', '11_01', '15_04', '13_05', '14_05', '04_01', '07_02', '02_05', '04_05', '04_02', '12_04', '13_01', '21_04', '14_09', '22_05', '09_01', '07_08', '14_08', '22_02', '12_06', '09_06', '07_09', '07_03', '27_06', '27_09', '24_09', '13_02', '02_08', '22_03', '21_01', '20_01', '15_07', '15_02', '15_05', '12_03', '21_02', '06_05', '15_03', '10_05', '03_01', '12_08', '01_03', '03_09', '03_03', '14_04', '05_07', '09_03', '09_04', '12_05'}\n",
      "Test sessions =  [19, 20, 21]\n",
      "{'12_02', '09_09', '04_01', '22_09', '02_05', '04_05', '14_09', '22_04', '09_01', '07_01', '13_03', '18_02', '18_03', '15_08', '24_05', '02_07', '01_09', '08_05', '11_03', '10_05', '01_03', '03_09', '18_01', '14_03', '09_03', '17_04', '01_02', '23_03'}\n",
      "Test sessions =  [22, 23, 24]\n",
      "{'07_02', '14_07', '30_02', '18_08', '11_02', '07_08', '14_08', '12_01', '06_03', '27_06', '21_05', '05_06', '12_03', '25_05', '12_07', '26_06', '11_03', '11_04', '12_08', '17_07', '17_09', '25_08', '18_07', '05_03', '21_08', '09_04', '02_07'}\n",
      "Test sessions =  [25, 26, 27]\n",
      "{'28_06', '22_02', '28_04', '28_02', '18_05', '24_07', '28_03', '29_06', '30_06', '23_07', '29_08', '24_03', '30_05', '29_02', '30_09', '29_05', '28_05', '17_09'}\n",
      "Test sessions =  [28, 29, 30]\n",
      "{'27_07', '27_03', '05_02', '26_04', '27_02', '26_09', '25_04', '25_03', '26_03', '23_09', '27_08', '26_02'}\n"
     ]
    }
   ],
   "source": [
    "# manually delete the first two cols\n",
    "features = pd.read_csv('./1_Features_raw/Regression_Speaker_Visual_hog_final_session2.csv')\n",
    "participate = pd.read_csv(\"Final_results_0620_1721.csv\")\n",
    "for cv_idx, key in enumerate(cv_dataset):\n",
    "    Test_sessions = cv_dataset[key][\"Test\"]\n",
    "    print(\"Test sessions = \",Test_sessions )\n",
    "    Validation_sessions = cv_dataset[key][\"Validation\"]\n",
    "    Train_sessions = cv_dataset[key][\"Train\"]\n",
    "    \n",
    "    # ---------------------\n",
    "    # load data\n",
    "    # ---------------------\n",
    "    Test_data = features[features['Session'].isin(Test_sessions)]\n",
    "    Test_data.to_csv(f\"./CV_Features_631/RegressionFeatures/Test_CV_{cv_idx+1}.csv\")\n",
    "    Validation_data = features[features['Session'].isin(Validation_sessions)]\n",
    "    Train_data = features[features['Session'].isin(Train_sessions)]\n",
    "\n",
    "    # ---------------------\n",
    "    # speaker independent\n",
    "    # ---------------------\n",
    "    # (1) delete instance\n",
    "    delete_info = set()\n",
    "    Test_Overlap = participate[participate['Round'].isin(cv_dataset[key][\"Test\"])]\n",
    "    for idx, item in Test_Overlap.iterrows():\n",
    "        values = set(item.values[6:-1])\n",
    "        for temp in values:\n",
    "            if type(temp)!=float:\n",
    "                if int(temp.split('-')[0]) not in Test_sessions:\n",
    "                    if int(temp.split('-')[0])<10:\n",
    "                        temp = '0'+ temp\n",
    "                        delete_info.add(temp.replace(\"-\",\"_\"))\n",
    "                    else:\n",
    "                         delete_info.add(temp.replace(\"-\",\"_\"))\n",
    "    print(delete_info)\n",
    "    \n",
    "    # (2) 整理Validation and Train data\n",
    "    for idx, item in Validation_data.iterrows():\n",
    "        if item['VideoName'][:5] in list(delete_info):\n",
    "            Validation_data.drop(labels = idx,inplace=True)\n",
    "    Validation_data.to_csv(f\"./CV_Features_631/RegressionFeatures/Validation_CV_{cv_idx+1}.csv\")\n",
    "    \n",
    "    for idx, item in Train_data.iterrows():\n",
    "        if item['VideoName'][:5] in list(delete_info):\n",
    "            Train_data.drop(labels = idx,inplace=True)\n",
    "    Train_data.to_csv(f\"./CV_Features_631/RegressionFeatures/Train_CV_{cv_idx+1}.csv\")"
   ]
  },
  {
   "cell_type": "code",
   "execution_count": null,
   "metadata": {},
   "outputs": [],
   "source": []
  }
 ],
 "metadata": {
  "kernelspec": {
   "display_name": "Python 3.7.1 64-bit",
   "language": "python",
   "name": "python37164bit395e14d61e31467c92df2f870180e68d"
  },
  "language_info": {
   "codemirror_mode": {
    "name": "ipython",
    "version": 3
   },
   "file_extension": ".py",
   "mimetype": "text/x-python",
   "name": "python",
   "nbconvert_exporter": "python",
   "pygments_lexer": "ipython3",
   "version": "3.8.3"
  },
  "varInspector": {
   "cols": {
    "lenName": 16,
    "lenType": 16,
    "lenVar": 40
   },
   "kernels_config": {
    "python": {
     "delete_cmd_postfix": "",
     "delete_cmd_prefix": "del ",
     "library": "var_list.py",
     "varRefreshCmd": "print(var_dic_list())"
    },
    "r": {
     "delete_cmd_postfix": ") ",
     "delete_cmd_prefix": "rm(",
     "library": "var_list.r",
     "varRefreshCmd": "cat(var_dic_list()) "
    }
   },
   "types_to_exclude": [
    "module",
    "function",
    "builtin_function_or_method",
    "instance",
    "_Feature"
   ],
   "window_display": false
  }
 },
 "nbformat": 4,
 "nbformat_minor": 4
}
