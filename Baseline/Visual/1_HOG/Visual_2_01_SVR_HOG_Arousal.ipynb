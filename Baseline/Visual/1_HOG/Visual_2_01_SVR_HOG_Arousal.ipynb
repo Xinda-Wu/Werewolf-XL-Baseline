{
 "cells": [
  {
   "cell_type": "code",
   "execution_count": 1,
   "metadata": {},
   "outputs": [
    {
     "name": "stdout",
     "output_type": "stream",
     "text": [
      "(10244, 980)\n",
      "(10244,)\n"
     ]
    }
   ],
   "source": [
    "import os\n",
    "import numpy as np\n",
    "from time import time\n",
    "import datetime\n",
    "import pandas as pd\n",
    "from sklearn.preprocessing import StandardScaler\n",
    "from sklearn.model_selection import GridSearchCV, train_test_split\n",
    "from sklearn.model_selection import GridSearchCV\n",
    "from sklearn.linear_model import LinearRegression\n",
    "from sklearn.svm import SVR\n",
    "from sklearn.metrics import mean_squared_error\n",
    "from math import sqrt\n",
    "import pandas as pd\n",
    "\n",
    "\n",
    "filepath ='/home/dell/Xinda/SVM/server/Visual/1_HOG/Visual_hogPCA_.95_part2_Arousal.csv'\n",
    "data = pd.read_csv(filepath)\n",
    "x = data.iloc[:, :-1]  # 数据特征\n",
    "y = data.iloc[:,-1]  # 标签\n",
    "\n",
    "# 将数据划分为训练集和测试集，test_size=.3表示30%的测试集, 随机数种子, 保证可复现性\n",
    "x_train, x_test, y_train, y_test = train_test_split(x, y, test_size=.3, random_state=420)\n",
    "\n",
    "# 修正测试集和训练集的索引\n",
    "for i in [x_train, x_test, y_train, y_test ]:\n",
    "    i.index  = range(i.shape[0])\n",
    "\n",
    "# 标准化\n",
    "scaler_x = StandardScaler()\n",
    "x_train_std = scaler_x.fit_transform(x_train)\n",
    "x_test_std = scaler_x.fit_transform(x_test)\n",
    "print(x_train_std.shape)\n",
    "print(y_train.shape)\n",
    "\n",
    "def getPvar(vals, mean):\n",
    "    N = len(vals)\n",
    "    su = 0\n",
    "    for i in range(len(vals)):\n",
    "        su = su + ((vals[i]-mean)*(vals[i]-mean))\n",
    "    pvar = (1/N) * su\n",
    "    return pvar\n",
    "\n",
    "def getMean(vals):\n",
    "    su = 0\n",
    "    for i in range(len(vals)):\n",
    "        su = su + vals[i]\n",
    "    mean = su/(len(vals))\n",
    "    return mean\n",
    "\n",
    "def getMeanofDiffs(xvals, yvals):\n",
    "    su = 0\n",
    "    for i in range(len(xvals)):\n",
    "        su = su + ((xvals[i] - yvals[i])*(xvals[i] - yvals[i]))\n",
    "    meanodiffs = su/(len(xvals))\n",
    "    return meanodiffs\n",
    "\n",
    "def getCCC(pvarfe,pvarexp,meanofdiff,meanfe,meanexp):\n",
    "    bottom = pvarfe + pvarexp + ((meanfe - meanexp)*(meanfe - meanexp))\n",
    "    answer = 1 - (meanofdiff / bottom)\n",
    "    return answer"
   ]
  },
  {
   "cell_type": "code",
   "execution_count": 2,
   "metadata": {},
   "outputs": [
    {
     "name": "stdout",
     "output_type": "stream",
     "text": [
      "(1) Evaluation - RMSE =  0.2039383093143414\n",
      "(2) Evaluation - Spearmman = \n",
      "           result    y_test\n",
      "result  1.000000  0.649383\n",
      "y_test  0.649383  1.000000\n",
      "(3) Evaluation - CCC =  0.8004873176011261\n",
      "save success!\n"
     ]
    }
   ],
   "source": [
    "RMSE_list = []\n",
    "Spearman_list = []\n",
    "CCC_list = []\n",
    "clf = SVR(kernel = 'rbf', gamma =  0.0009765625, cache_size=5000)\n",
    "clf.fit(x_train_std, y_train)\n",
    "result = clf.predict(x_test_std)\n",
    "# accuracy\n",
    "rmse = sqrt(mean_squared_error(y_test, result))\n",
    "print(\"(1) Evaluation - RMSE = \", rmse)\n",
    "\n",
    "# Spearman\n",
    "data = {'result':result, 'y_test':y_test}\n",
    "df = pd.DataFrame(data, columns=['result','y_test'])\n",
    "spearman = df.corr(method=\"spearman\" )\n",
    "print(\"(2) Evaluation - Spearmman = \\n\", spearman)\n",
    "\n",
    "# CCC\n",
    "prediction = result\n",
    "ground = y_test\n",
    "meanfe = getMean(ground)\n",
    "meanexp = getMean(prediction)\n",
    "meanofdiff = getMeanofDiffs(ground,prediction)\n",
    "pvarfe = getPvar(ground, meanfe)\n",
    "pvarexp = getPvar(prediction, meanexp)\n",
    "ccc = getCCC(pvarfe,pvarexp,meanofdiff,meanfe,meanexp)\n",
    "print('(3) Evaluation - CCC =  ' + str(ccc))\n",
    "\n",
    "df = pd.DataFrame(data={\"hog_prediction_a\": prediction, \"hog_groundtruth_a\": y_test.values.tolist()})\n",
    "df.to_csv(\"eval_hog_arousal.csv\")\n",
    "print(\"save success!\")"
   ]
  },
  {
   "cell_type": "code",
   "execution_count": null,
   "metadata": {},
   "outputs": [],
   "source": []
  }
 ],
 "metadata": {
  "kernelspec": {
   "display_name": "Python 3",
   "language": "python",
   "name": "python3"
  },
  "language_info": {
   "codemirror_mode": {
    "name": "ipython",
    "version": 3
   },
   "file_extension": ".py",
   "mimetype": "text/x-python",
   "name": "python",
   "nbconvert_exporter": "python",
   "pygments_lexer": "ipython3",
   "version": "3.6.8"
  }
 },
 "nbformat": 4,
 "nbformat_minor": 4
}
