{
 "cells": [
  {
   "cell_type": "code",
   "execution_count": 2,
   "metadata": {},
   "outputs": [],
   "source": [
    "import os\n",
    "import numpy as np\n",
    "from time import time\n",
    "import datetime\n",
    "import pandas as pd\n",
    "from sklearn.metrics import mean_squared_error\n",
    "from math import sqrt\n",
    "import pandas as pd"
   ]
  },
  {
   "cell_type": "code",
   "execution_count": 3,
   "metadata": {},
   "outputs": [],
   "source": [
    "df = pd.read_csv('./Continuous_fusion_4/fusion_4_pleasure.csv')"
   ]
  },
  {
   "cell_type": "code",
   "execution_count": 4,
   "metadata": {},
   "outputs": [
    {
     "data": {
      "text/html": [
       "<div>\n",
       "<style scoped>\n",
       "    .dataframe tbody tr th:only-of-type {\n",
       "        vertical-align: middle;\n",
       "    }\n",
       "\n",
       "    .dataframe tbody tr th {\n",
       "        vertical-align: top;\n",
       "    }\n",
       "\n",
       "    .dataframe thead th {\n",
       "        text-align: right;\n",
       "    }\n",
       "</style>\n",
       "<table border=\"1\" class=\"dataframe\">\n",
       "  <thead>\n",
       "    <tr style=\"text-align: right;\">\n",
       "      <th></th>\n",
       "      <th>opensmile_prediction_p</th>\n",
       "      <th>hog_prediction_p</th>\n",
       "      <th>vggish_prediction_p</th>\n",
       "      <th>lstm_p_prediction</th>\n",
       "      <th>groundtruth_p</th>\n",
       "    </tr>\n",
       "  </thead>\n",
       "  <tbody>\n",
       "    <tr>\n",
       "      <th>0</th>\n",
       "      <td>0.115646</td>\n",
       "      <td>0.122450</td>\n",
       "      <td>0.275033</td>\n",
       "      <td>0.159465</td>\n",
       "      <td>0.00</td>\n",
       "    </tr>\n",
       "    <tr>\n",
       "      <th>1</th>\n",
       "      <td>0.112203</td>\n",
       "      <td>-0.056877</td>\n",
       "      <td>0.292502</td>\n",
       "      <td>0.031091</td>\n",
       "      <td>0.00</td>\n",
       "    </tr>\n",
       "    <tr>\n",
       "      <th>2</th>\n",
       "      <td>0.123905</td>\n",
       "      <td>0.298645</td>\n",
       "      <td>-0.036120</td>\n",
       "      <td>0.346203</td>\n",
       "      <td>0.75</td>\n",
       "    </tr>\n",
       "    <tr>\n",
       "      <th>3</th>\n",
       "      <td>0.261675</td>\n",
       "      <td>-0.085651</td>\n",
       "      <td>0.035924</td>\n",
       "      <td>-0.068999</td>\n",
       "      <td>0.00</td>\n",
       "    </tr>\n",
       "    <tr>\n",
       "      <th>4</th>\n",
       "      <td>-0.051422</td>\n",
       "      <td>0.708457</td>\n",
       "      <td>0.042538</td>\n",
       "      <td>0.967095</td>\n",
       "      <td>1.00</td>\n",
       "    </tr>\n",
       "    <tr>\n",
       "      <th>...</th>\n",
       "      <td>...</td>\n",
       "      <td>...</td>\n",
       "      <td>...</td>\n",
       "      <td>...</td>\n",
       "      <td>...</td>\n",
       "    </tr>\n",
       "    <tr>\n",
       "      <th>4380</th>\n",
       "      <td>-0.036468</td>\n",
       "      <td>0.148861</td>\n",
       "      <td>-0.125886</td>\n",
       "      <td>-0.121085</td>\n",
       "      <td>0.00</td>\n",
       "    </tr>\n",
       "    <tr>\n",
       "      <th>4381</th>\n",
       "      <td>0.175664</td>\n",
       "      <td>0.363688</td>\n",
       "      <td>0.297178</td>\n",
       "      <td>0.258295</td>\n",
       "      <td>0.50</td>\n",
       "    </tr>\n",
       "    <tr>\n",
       "      <th>4382</th>\n",
       "      <td>0.041683</td>\n",
       "      <td>0.147541</td>\n",
       "      <td>-0.031547</td>\n",
       "      <td>-0.017166</td>\n",
       "      <td>0.00</td>\n",
       "    </tr>\n",
       "    <tr>\n",
       "      <th>4383</th>\n",
       "      <td>0.001698</td>\n",
       "      <td>-0.085040</td>\n",
       "      <td>0.133264</td>\n",
       "      <td>-0.061091</td>\n",
       "      <td>0.00</td>\n",
       "    </tr>\n",
       "    <tr>\n",
       "      <th>4384</th>\n",
       "      <td>-0.139604</td>\n",
       "      <td>-0.115094</td>\n",
       "      <td>0.230194</td>\n",
       "      <td>0.034131</td>\n",
       "      <td>-0.25</td>\n",
       "    </tr>\n",
       "  </tbody>\n",
       "</table>\n",
       "<p>4385 rows × 5 columns</p>\n",
       "</div>"
      ],
      "text/plain": [
       "      opensmile_prediction_p  hog_prediction_p  vggish_prediction_p  \\\n",
       "0                   0.115646          0.122450             0.275033   \n",
       "1                   0.112203         -0.056877             0.292502   \n",
       "2                   0.123905          0.298645            -0.036120   \n",
       "3                   0.261675         -0.085651             0.035924   \n",
       "4                  -0.051422          0.708457             0.042538   \n",
       "...                      ...               ...                  ...   \n",
       "4380               -0.036468          0.148861            -0.125886   \n",
       "4381                0.175664          0.363688             0.297178   \n",
       "4382                0.041683          0.147541            -0.031547   \n",
       "4383                0.001698         -0.085040             0.133264   \n",
       "4384               -0.139604         -0.115094             0.230194   \n",
       "\n",
       "      lstm_p_prediction  groundtruth_p  \n",
       "0              0.159465           0.00  \n",
       "1              0.031091           0.00  \n",
       "2              0.346203           0.75  \n",
       "3             -0.068999           0.00  \n",
       "4              0.967095           1.00  \n",
       "...                 ...            ...  \n",
       "4380          -0.121085           0.00  \n",
       "4381           0.258295           0.50  \n",
       "4382          -0.017166           0.00  \n",
       "4383          -0.061091           0.00  \n",
       "4384           0.034131          -0.25  \n",
       "\n",
       "[4385 rows x 5 columns]"
      ]
     },
     "execution_count": 4,
     "metadata": {},
     "output_type": "execute_result"
    }
   ],
   "source": [
    "df"
   ]
  },
  {
   "cell_type": "markdown",
   "metadata": {},
   "source": [
    "### 评估"
   ]
  },
  {
   "cell_type": "code",
   "execution_count": 5,
   "metadata": {},
   "outputs": [],
   "source": [
    "def RMSE(label,prediction):\n",
    "    rmse = sqrt(mean_squared_error(label, prediction))\n",
    "    print(\"(1) Evaluation - RMSE = \", rmse) \n",
    "    return rmse\n",
    "\n",
    "def Spearman(label, prediction):\n",
    "    data = {'prediction':prediction, 'label':label}\n",
    "    df = pd.DataFrame(data, columns=['prediction','label'])\n",
    "    spearman = df.corr(method=\"spearman\" )\n",
    "    print(\"(2) Evaluation - Spearmman = \\n\", spearman)\n",
    "    \n",
    "\n",
    "def CCC(label, prediction):\n",
    "    \n",
    "    def getPvar(vals, mean):\n",
    "        N = len(vals)\n",
    "        su = 0\n",
    "        for i in range(len(vals)):\n",
    "            su = su + ((vals[i]-mean)*(vals[i]-mean))\n",
    "        pvar = (1/N) * su\n",
    "        return pvar\n",
    "\n",
    "    def getMean(vals):\n",
    "        su = 0\n",
    "        for i in range(len(vals)):\n",
    "            su = su + vals[i]\n",
    "        mean = su/(len(vals))\n",
    "        return mean\n",
    "\n",
    "    def getMeanofDiffs(xvals, yvals):\n",
    "        su = 0\n",
    "        for i in range(len(xvals)):\n",
    "            su = su + ((xvals[i] - yvals[i])*(xvals[i] - yvals[i]))\n",
    "        meanodiffs = su/(len(xvals))\n",
    "        return meanodiffs\n",
    "\n",
    "    def getCCC(pvarfe,pvarexp,meanofdiff,meanfe,meanexp):\n",
    "        bottom = pvarfe + pvarexp + ((meanfe - meanexp)*(meanfe - meanexp))\n",
    "        answer = 1 - (meanofdiff / bottom)\n",
    "        return answer\n",
    "    \n",
    "    # CCC\n",
    "    prediction = prediction\n",
    "    ground = label\n",
    "    meanfe = getMean(ground)\n",
    "    meanexp = getMean(prediction)\n",
    "    meanofdiff = getMeanofDiffs(ground,prediction)\n",
    "    pvarfe = getPvar(ground, meanfe)\n",
    "    pvarexp = getPvar(prediction, meanexp)\n",
    "    ccc = getCCC(pvarfe,pvarexp,meanofdiff,meanfe,meanexp)\n",
    "    print('(3) Evaluation - CCC =  ' + str(ccc))\n",
    "    return ccc\n",
    "\n",
    "def eval(label,prediction):\n",
    "    eval_dict = {\"rmse\":RMSE(label,prediction),\n",
    "                 \"spearman\":Spearman(label, prediction),\n",
    "                \"CCC\":CCC(label, prediction)}\n",
    "    return eval_dict"
   ]
  },
  {
   "cell_type": "markdown",
   "metadata": {},
   "source": [
    "## Pleasure"
   ]
  },
  {
   "cell_type": "code",
   "execution_count": 6,
   "metadata": {},
   "outputs": [],
   "source": [
    "opensmile = df[\"opensmile_prediction_p\"].values\n",
    "vggish = df[\"vggish_prediction_p\"].values\n",
    "hog = df[\"hog_prediction_p\"].values\n",
    "lstm = df[\"lstm_p_prediction\"].values\n",
    "label = df[\"groundtruth_p\"].values"
   ]
  },
  {
   "cell_type": "markdown",
   "metadata": {},
   "source": [
    "#### (1) Greedy - weghted strategy "
   ]
  },
  {
   "cell_type": "code",
   "execution_count": 7,
   "metadata": {},
   "outputs": [],
   "source": [
    "opensmile_CCC = 0.2183\n",
    "vggish_CCC = 0.1005\n",
    "hog_CCC = 0.5546\n",
    "lstm_CCC = 0.5367"
   ]
  },
  {
   "cell_type": "markdown",
   "metadata": {},
   "source": [
    "###### a.hog>lstm>opensmile>vggish"
   ]
  },
  {
   "cell_type": "code",
   "execution_count": 15,
   "metadata": {},
   "outputs": [
    {
     "name": "stdout",
     "output_type": "stream",
     "text": [
      "0.4917987721066618 0.5082012278933382\n"
     ]
    },
    {
     "ename": "TypeError",
     "evalue": "globals must be a real dict; try eval(expr, {}, mapping)",
     "output_type": "error",
     "traceback": [
      "\u001b[0;31m---------------------------------------------------------------------------\u001b[0m",
      "\u001b[0;31mTypeError\u001b[0m                                 Traceback (most recent call last)",
      "\u001b[0;32m<ipython-input-15-a0286beaa4b9>\u001b[0m in \u001b[0;36m<module>\u001b[0;34m\u001b[0m\n\u001b[1;32m      9\u001b[0m \u001b[0mfusion_hog_lstm\u001b[0m \u001b[0;34m=\u001b[0m \u001b[0mlstm_w_np\u001b[0m\u001b[0;34m+\u001b[0m\u001b[0mhog_w_np\u001b[0m\u001b[0;34m\u001b[0m\u001b[0;34m\u001b[0m\u001b[0m\n\u001b[1;32m     10\u001b[0m \u001b[0mfusion_hog_lstm_list\u001b[0m \u001b[0;34m=\u001b[0m \u001b[0mfusion_hog_lstm\u001b[0m\u001b[0;34m.\u001b[0m\u001b[0mtolist\u001b[0m\u001b[0;34m(\u001b[0m\u001b[0;34m)\u001b[0m\u001b[0;34m\u001b[0m\u001b[0;34m\u001b[0m\u001b[0m\n\u001b[0;32m---> 11\u001b[0;31m \u001b[0meval_result\u001b[0m\u001b[0;34m=\u001b[0m \u001b[0meval\u001b[0m\u001b[0;34m(\u001b[0m\u001b[0mlabel\u001b[0m\u001b[0;34m,\u001b[0m\u001b[0mfusion_hog_lstm_list\u001b[0m\u001b[0;34m)\u001b[0m\u001b[0;34m\u001b[0m\u001b[0;34m\u001b[0m\u001b[0m\n\u001b[0m\u001b[1;32m     12\u001b[0m print(\"RMSE={0}, SPearman={1}, CCC={2}\".format(eval_result[\"rmse\"],\n\u001b[1;32m     13\u001b[0m                                                \u001b[0meval_result\u001b[0m\u001b[0;34m[\u001b[0m\u001b[0;34m\"spearman\"\u001b[0m\u001b[0;34m]\u001b[0m\u001b[0;34m,\u001b[0m\u001b[0;34m\u001b[0m\u001b[0;34m\u001b[0m\u001b[0m\n",
      "\u001b[0;31mTypeError\u001b[0m: globals must be a real dict; try eval(expr, {}, mapping)"
     ]
    }
   ],
   "source": [
    "weighted_lstm = lstm_CCC/(hog_CCC+lstm_CCC)\n",
    "weighted_hog = hog_CCC/(hog_CCC+lstm_CCC)\n",
    "print(weighted_lstm,weighted_hog)\n",
    "\n",
    "lstm_w = [weighted_lstm*x for x in lstm]\n",
    "hog_w = [weighted_hog*x for x in hog]\n",
    "lstm_w_np = np.array(lstm_w)\n",
    "hog_w_np = np.array(hog_w)\n",
    "fusion_hog_lstm = lstm_w_np+hog_w_np\n",
    "fusion_hog_lstm_list = fusion_hog_lstm.tolist()\n",
    "eval_result= eval(label,fusion_hog_lstm_list)\n",
    "print(\"RMSE={0}, SPearman={1}, CCC={2}\".format(eval_result[\"rmse\"],\n",
    "                                               eval_result[\"spearman\"],\n",
    "                                               eval_result[\"ccc\"]))"
   ]
  },
  {
   "cell_type": "code",
   "execution_count": null,
   "metadata": {},
   "outputs": [],
   "source": []
  },
  {
   "cell_type": "code",
   "execution_count": null,
   "metadata": {},
   "outputs": [],
   "source": []
  },
  {
   "cell_type": "code",
   "execution_count": null,
   "metadata": {},
   "outputs": [],
   "source": []
  },
  {
   "cell_type": "code",
   "execution_count": 10,
   "metadata": {},
   "outputs": [
    {
     "name": "stdout",
     "output_type": "stream",
     "text": [
      "(1) Evaluation - RMSE =  0.32214889063927526\n"
     ]
    }
   ],
   "source": [
    "rmse = RMSE(label,opensmile)"
   ]
  },
  {
   "cell_type": "code",
   "execution_count": 15,
   "metadata": {},
   "outputs": [],
   "source": [
    "a = [1,2,3]\n",
    "b = [ 4*x for x in a]"
   ]
  },
  {
   "cell_type": "code",
   "execution_count": 16,
   "metadata": {},
   "outputs": [
    {
     "data": {
      "text/plain": [
       "[4, 8, 12]"
      ]
     },
     "execution_count": 16,
     "metadata": {},
     "output_type": "execute_result"
    }
   ],
   "source": [
    "b"
   ]
  },
  {
   "cell_type": "code",
   "execution_count": 17,
   "metadata": {},
   "outputs": [
    {
     "data": {
      "text/plain": [
       "[1, 2, 3, 4, 8, 12]"
      ]
     },
     "execution_count": 17,
     "metadata": {},
     "output_type": "execute_result"
    }
   ],
   "source": [
    "c = a+b\n",
    "c"
   ]
  },
  {
   "cell_type": "code",
   "execution_count": 18,
   "metadata": {},
   "outputs": [
    {
     "data": {
      "text/plain": [
       "array([1, 2, 3])"
      ]
     },
     "execution_count": 18,
     "metadata": {},
     "output_type": "execute_result"
    }
   ],
   "source": [
    "a_np = np.array(a)\n",
    "a_np"
   ]
  },
  {
   "cell_type": "code",
   "execution_count": 19,
   "metadata": {},
   "outputs": [
    {
     "data": {
      "text/plain": [
       "array([ 4,  8, 12])"
      ]
     },
     "execution_count": 19,
     "metadata": {},
     "output_type": "execute_result"
    }
   ],
   "source": [
    "b_np = np.array(b)\n",
    "b_np"
   ]
  },
  {
   "cell_type": "code",
   "execution_count": 24,
   "metadata": {},
   "outputs": [
    {
     "data": {
      "text/plain": [
       "array([ 5, 10, 15])"
      ]
     },
     "execution_count": 24,
     "metadata": {},
     "output_type": "execute_result"
    }
   ],
   "source": [
    "c = b_np+a_np\n",
    "c"
   ]
  },
  {
   "cell_type": "code",
   "execution_count": null,
   "metadata": {},
   "outputs": [],
   "source": []
  }
 ],
 "metadata": {
  "kernelspec": {
   "display_name": "Python 3",
   "language": "python",
   "name": "python3"
  },
  "language_info": {
   "codemirror_mode": {
    "name": "ipython",
    "version": 3
   },
   "file_extension": ".py",
   "mimetype": "text/x-python",
   "name": "python",
   "nbconvert_exporter": "python",
   "pygments_lexer": "ipython3",
   "version": "3.7.1"
  },
  "varInspector": {
   "cols": {
    "lenName": 16,
    "lenType": 16,
    "lenVar": 40
   },
   "kernels_config": {
    "python": {
     "delete_cmd_postfix": "",
     "delete_cmd_prefix": "del ",
     "library": "var_list.py",
     "varRefreshCmd": "print(var_dic_list())"
    },
    "r": {
     "delete_cmd_postfix": ") ",
     "delete_cmd_prefix": "rm(",
     "library": "var_list.r",
     "varRefreshCmd": "cat(var_dic_list()) "
    }
   },
   "types_to_exclude": [
    "module",
    "function",
    "builtin_function_or_method",
    "instance",
    "_Feature"
   ],
   "window_display": false
  }
 },
 "nbformat": 4,
 "nbformat_minor": 2
}
